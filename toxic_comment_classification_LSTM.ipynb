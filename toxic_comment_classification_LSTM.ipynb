{
  "nbformat": 4,
  "nbformat_minor": 0,
  "metadata": {
    "accelerator": "GPU",
    "colab": {
      "name": "toxic_comment_classification-LSTM.ipynb",
      "provenance": [],
      "collapsed_sections": []
    },
    "kernelspec": {
      "display_name": "Python 3",
      "language": "python",
      "name": "python3"
    },
    "language_info": {
      "codemirror_mode": {
        "name": "ipython",
        "version": 3
      },
      "file_extension": ".py",
      "mimetype": "text/x-python",
      "name": "python",
      "nbconvert_exporter": "python",
      "pygments_lexer": "ipython3",
      "version": "3.7.9"
    }
  },
  "cells": [
    {
      "cell_type": "markdown",
      "metadata": {
        "id": "kmlFZAdK5WQq"
      },
    
      "cell_type": "markdown",
      "metadata": {
        "id": "RSNJqUeL5WQv"
      },
      "source": [
        "# Toxic Comment Classification\n",
        "\n",
        "In this notebook, we'll be developing a Neural Network models that can classify string comments based on their toxicity:\n",
        "* `toxic`\n",
        "* `severe_toxic`\n",
        "* `obscene`\n",
        "* `threat`\n",
        "* `insult`\n",
        "* `identity_hate`\n",
        "\n"
      ]
    },
    {
      "cell_type": "code",
      "metadata": {
        "id": "SzBy6dbW5WQ0"
      },
      "source": [
        "import sys, os, re, csv, codecs, numpy as np, pandas as pd\n",
        "import matplotlib.pyplot as plt\n",
        "from IPython.core.display import display, HTML\n",
        "from keras.preprocessing.text import Tokenizer\n",
        "from keras.preprocessing.sequence import pad_sequences\n",
        "from keras.layers import Dense, Input, LSTM, Embedding, Dropout, Activation\n",
        "from keras.layers import Bidirectional, GlobalMaxPool1D\n",
        "from keras.models import Model\n",
        "from keras import initializers, regularizers, constraints, optimizers, layers"
      ],
      "execution_count": null,
      "outputs": []
    },
    {
      "cell_type": "code",
      "metadata": {
        "colab": {
          "base_uri": "https://localhost:8080/"
        },
        "id": "DfYJ7t3uDCQM",
        "outputId": "5598eb93-c439-40b1-c3d1-25915024fb00"
      },
      "source": [
        "from google.colab import drive\n",
        "drive.mount('/content/drive')"
      ],
      "execution_count": null,
      "outputs": [
        {
          "output_type": "stream",
          "text": [
            "Mounted at /content/drive\n"
          ],
          "name": "stdout"
        }
      ]
    },
    {
      "cell_type": "code",
      "metadata": {
        "colab": {
          "base_uri": "https://localhost:8080/"
        },
        "id": "L90mBN1IETKk",
        "outputId": "d2f9839a-0ad2-467b-c872-26197883f9ab"
      },
      "source": [
        "!pip install pyspark"
      ],
      "execution_count": null,
      "outputs": [
        {
          "output_type": "stream",
          "text": [
            "Collecting pyspark\n",
            "\u001b[?25l  Downloading https://files.pythonhosted.org/packages/f0/26/198fc8c0b98580f617cb03cb298c6056587b8f0447e20fa40c5b634ced77/pyspark-3.0.1.tar.gz (204.2MB)\n",
            "\u001b[K     |████████████████████████████████| 204.2MB 70kB/s \n",
            "\u001b[?25hCollecting py4j==0.10.9\n",
            "\u001b[?25l  Downloading https://files.pythonhosted.org/packages/9e/b6/6a4fb90cd235dc8e265a6a2067f2a2c99f0d91787f06aca4bcf7c23f3f80/py4j-0.10.9-py2.py3-none-any.whl (198kB)\n",
            "\u001b[K     |████████████████████████████████| 204kB 49.3MB/s \n",
            "\u001b[?25hBuilding wheels for collected packages: pyspark\n",
            "  Building wheel for pyspark (setup.py) ... \u001b[?25l\u001b[?25hdone\n",
            "  Created wheel for pyspark: filename=pyspark-3.0.1-py2.py3-none-any.whl size=204612242 sha256=f9e46171b418e75160bea55d9cbb30fe4be812f913e78c46a1045b2a676ed638\n",
            "  Stored in directory: /root/.cache/pip/wheels/5e/bd/07/031766ca628adec8435bb40f0bd83bb676ce65ff4007f8e73f\n",
            "Successfully built pyspark\n",
            "Installing collected packages: py4j, pyspark\n",
            "Successfully installed py4j-0.10.9 pyspark-3.0.1\n"
          ],
          "name": "stdout"
        }
      ]
    },
    {
      "cell_type": "code",
      "metadata": {
        "collapsed": true,
        "id": "IkPoTeoM5WQ4"
      },
      "source": [
        "#function for ploting history of the model training\n",
        "from pyspark.sql import Row\n",
        "def plot_history(history_arg):\n",
        "  array = []\n",
        "  i =1\n",
        "  j =1\n",
        "  for acc in history_arg.history['acc']:\n",
        "    array.append(Row(epoch=i, accuracy=float(acc)))\n",
        "    i = i+1\n",
        "  acc_df = sqlContext.createDataFrame((array))\n",
        "\n",
        "  array = []\n",
        "  for loss in history_arg.history['loss']:\n",
        "      array.append(Row(epoch = j, loss = float(loss)))\n",
        "      j = j+1\n",
        "  loss_df = sqlContext.createDataFrame(array)\n",
        "\n",
        "  display_df = acc_df.join(loss_df,on=(\"epoch\")).orderBy(\"epoch\")\n",
        "  return display_df"
      ],
      "execution_count": null,
      "outputs": []
    },
    {
      "cell_type": "markdown",
      "metadata": {
        "id": "xzsubQUi5WQ7"
      },
      "source": [
        "### Explore Data\n",
        "\n",
        "Extract the features and labels and take a look at sample data."
      ]
    },
    {
      "cell_type": "code",
      "metadata": {
        "collapsed": true,
        "id": "gwHLCC-P5WQ8"
      },
      "source": [
        "from pyspark.sql.types import *\n",
        "\n",
        "#Class labels\n",
        "list_classes = [\"toxic\", \"severe_toxic\", \"obscene\", \"threat\", \"insult\", \"identity_hate\"]\n",
        "\n",
        "#Read the data\n",
        "toxicWordsTrain = pd.read_csv(\"/content/drive/MyDrive/monolingualTCC/train.csv\");\n",
        "toxicWordsTest = pd.read_csv(\"/content/drive/MyDrive/monolingualTCC/test.csv\")\n",
        "\n",
        "y_train = toxicWordsTrain[list_classes].values\n",
        "x_train = toxicWordsTrain[\"comment_text\"]\n",
        "x_test  = toxicWordsTest[\"comment_text\"]\n",
        "\n",
        "submission = pd.read_csv('/content/drive/MyDrive/monolingualTCC/sample_submission.csv')"
      ],
      "execution_count": null,
      "outputs": []
    },
    {
      "cell_type": "markdown",
      "metadata": {
        "id": "t8VFWPq45WQ-"
      },
      "source": [
        "### Train Data \n",
        "On analyzing the train data set, it was noted that the toxic levels in the comments are classified as shown below:"
      ]
    },
    {
      "cell_type": "code",
      "metadata": {
        "colab": {
          "base_uri": "https://localhost:8080/",
          "height": 476
        },
        "id": "EYQa0J8p5WRC",
        "outputId": "f78c171e-e771-4a8d-b871-9ef4ff079099"
      },
      "source": [
        "import seaborn as sns\n",
        "colors_list = [\"brownish green\", \"pine green\", \"ugly purple\",\n",
        "               \"blood\", \"deep blue\", \"brown\", \"azure\"]\n",
        "\n",
        "palette= sns.xkcd_palette(colors_list)\n",
        "\n",
        "x=toxicWordsTrain.iloc[:,2:].sum()\n",
        "#print(x.index)\n",
        "plt.figure(figsize=(9,6))\n",
        "ax= sns.barplot(x.index, x.values,palette=palette)\n",
        "plt.title(\"Class\")\n",
        "plt.ylabel('Occurrences', fontsize=12)\n",
        "plt.xlabel('Type ')\n",
        "rects = ax.patches\n",
        "labels = x.values\n",
        "for rect, label in zip(rects, labels):\n",
        "    height = rect.get_height()\n",
        "    ax.text(rect.get_x() + rect.get_width()/2, height + 10, label, \n",
        "            ha='center', va='bottom')\n",
        "\n",
        "display(plt.show())"
      ],
      "execution_count": null,
      "outputs": [
        {
          "output_type": "stream",
          "text": [
            "/usr/local/lib/python3.6/dist-packages/seaborn/_decorators.py:43: FutureWarning: Pass the following variables as keyword args: x, y. From version 0.12, the only valid positional argument will be `data`, and passing other arguments without an explicit keyword will result in an error or misinterpretation.\n",
            "  FutureWarning\n"
          ],
          "name": "stderr"
        },
        {
          "output_type": "display_data",
          "data": {
            "image/png": "[encoded data removed]",
            "text/plain": [
              "<Figure size 648x432 with 1 Axes>"
            ]
          },
          "metadata": {
            "tags": [],
            "needs_background": "light"
          }
        },
        {
          "output_type": "display_data",
          "data": {
            "text/plain": [
              "None"
            ]
          },
          "metadata": {
            "tags": []
          }
        }
      ]
    },
    {
      "cell_type": "code",
      "metadata": {
        "colab": {
          "base_uri": "https://localhost:8080/"
        },
        "id": "PX1iX3qx5WRM",
        "outputId": "dcf9d055-b691-46f5-bd70-d8c48e4c5115"
      },
      "source": [
        "# Sample from dataset\n",
        "for sample_i in range(3):\n",
        "    print('Comment #{}:  {}'.format(sample_i + 1, x_train[sample_i]))\n",
        "    print('Label #{}:    {}'.format(sample_i + 1, y_train[sample_i]))"
      ],
      "execution_count": null,
      "outputs": [
        {
          "output_type": "stream",
          "text": [
            "Comment #1:  Explanation\n",
            "Why the edits made under my username Hardcore Metallica Fan were reverted? They weren't vandalisms, just closure on some GAs after I voted at New York Dolls FAC. And please don't remove the template from the talk page since I'm retired now.89.205.38.27\n",
            "Label #1:    [0 0 0 0 0 0]\n",
            "Comment #2:  D'aww! He matches this background colour I'm seemingly stuck with. Thanks.  (talk) 21:51, January 11, 2016 (UTC)\n",
            "Label #2:    [0 0 0 0 0 0]\n",
            "Comment #3:  Hey man, I'm really not trying to edit war. It's just that this guy is constantly removing relevant information and talking to me through edits instead of my talk page. He seems to care more about the formatting than the actual info.\n",
            "Label #3:    [0 0 0 0 0 0]\n"
          ],
          "name": "stdout"
        }
      ]
    },
    {
      "cell_type": "code",
      "metadata": {
        "colab": {
          "base_uri": "https://localhost:8080/"
        },
        "id": "Q-TcuTAE5WRP",
        "outputId": "2f4cbfa7-38ca-4b15-f332-77428b227c31"
      },
      "source": [
        "# Explore vocabulary\n",
        "import collections\n",
        "from tqdm import tqdm\n",
        "\n",
        "# Create a counter object for each dataset\n",
        "word_counter = collections.Counter([word for sentence in tqdm(x_train, total=len(x_train)) \\\n",
        "                                                              for word in sentence.split()])\n",
        "\n",
        "print('{} words.'.format(len([word for sentence in x_train for word in sentence.split()])))\n",
        "print('{} unique words.'.format(len(word_counter)))\n",
        "print('10 Most common words in the dataset:')\n",
        "print('\"' + '\" \"'.join(list(zip(*word_counter.most_common(10)))[0]) + '\"')"
      ],
      "execution_count": null,
      "outputs": [
        {
          "output_type": "stream",
          "text": [
            "100%|██████████| 159571/159571 [00:01<00:00, 126935.00it/s]\n"
          ],
          "name": "stderr"
        },
        {
          "output_type": "stream",
          "text": [
            "10734904 words.\n",
            "532299 unique words.\n",
            "10 Most common words in the dataset:\n",
            "\"the\" \"to\" \"of\" \"and\" \"a\" \"I\" \"is\" \"you\" \"that\" \"in\"\n"
          ],
          "name": "stdout"
        }
      ]
    },
    {
      "cell_type": "markdown",
      "metadata": {
        "id": "QHs7WYLZ5WRS"
      },
      "source": [
        "The dataset contains 10,734,904 words, 532,299 of which are unique, and the 10 most common being: \"the\", \"to\", \"of\", \"and\", \"a\", \"I\", \"is\", \"you\", \"that\", and \"in\". One problem here is that we are counting uppercase words as different from lower case words and a bunch of other symbols that aren't really useful for our goal.\n",
        "A data cleanup will be done in the next step."
      ]
    },
    {
      "cell_type": "markdown",
      "metadata": {
        "id": "Sqt-l1OE5WRV"
      },
      "source": [
        "### Preprocessing the data\n",
        "\n",
        "We preprocess our data a bit so that it's in a format we can input into a neural network. The process includes:\n",
        "\n",
        "1. Remove irrelevant characters (```!\"#$%&()*+,-./:;<=>?@[\\\\]^_`{|}~\\t\\n```).\n",
        "2. Convert all letters to lowercase (HeLlO -> hello).\n",
        "3. Tokenize our words (hi how are you -> [23, 1, 5, 13]).\n",
        "4. Standaridize our input length with padding (hi how are you -> [23, 1, 5, 13, 0, 0, 0]).\n",
        "\n"
      ]
    },
    {
      "cell_type": "code",
      "metadata": {
        "colab": {
          "base_uri": "https://localhost:8080/"
        },
        "id": "ktYZqq-Z5WRZ",
        "outputId": "3aff3f3a-db59-4368-8cc2-65ae09eee669"
      },
      "source": [
        "# Tokenize and Pad\n",
        "from keras.preprocessing.text import Tokenizer\n",
        "from keras.preprocessing.sequence import pad_sequences\n",
        "\n",
        "# Create tokenizer\n",
        "tokenizer = Tokenizer(num_words=None,\n",
        "                      filters='!\"#$%&()*+,-./:;<=>?@[\\\\]^_`{|}~\\t\\n',\n",
        "                      lower=True,\n",
        "                      split=\" \",\n",
        "                      char_level=False)\n",
        "\n",
        "# Fit and run tokenizer\n",
        "tokenizer.fit_on_texts(list(x_train))\n",
        "tokenized_train = tokenizer.texts_to_sequences(x_train)\n",
        "tokenized_test = tokenizer.texts_to_sequences(x_test)\n",
        "word_index = tokenizer.word_index\n",
        "\n",
        "# Extract variables\n",
        "vocab_size = len(word_index)\n",
        "print('Vocab size: {}'.format(vocab_size))\n",
        "longest = max(len(seq) for seq in tokenized_train)\n",
        "print(\"Longest comment size: {}\".format(longest))\n",
        "average = np.mean([len(seq) for seq in tokenized_train])\n",
        "print(\"Average comment size: {}\".format(average))\n",
        "stdev = np.std([len(seq) for seq in tokenized_train])\n",
        "print(\"Stdev of comment size: {}\".format(stdev))\n",
        "max_len = int(average + stdev * 3)\n",
        "print('Max comment size: {}'.format(max_len))\n",
        "print()\n",
        "\n",
        "# Pad sequences\n",
        "processed_X_train = pad_sequences(tokenized_train, maxlen=max_len, padding='post', truncating='post')\n",
        "processed_X_test = pad_sequences(tokenized_test, maxlen=max_len, padding='post', truncating='post')\n",
        "\n",
        "# Sample tokenization\n",
        "for sample_i, (sent, token_sent) in enumerate(zip(x_train[:2], tokenized_train[:2])):\n",
        "    print('Sequence {}'.format(sample_i + 1))\n",
        "    print('  Input:  {}'.format(sent))\n",
        "    print('  Output: {}'.format(token_sent))"
      ],
      "execution_count": null,
      "outputs": [
        {
          "output_type": "stream",
          "text": [
            "Vocab size: 210337\n",
            "Longest comment size: 1403\n",
            "Average comment size: 68.22156908210138\n",
            "Stdev of comment size: 101.07344657013672\n",
            "Max comment size: 371\n",
            "\n",
            "Sequence 1\n",
            "  Input:  Explanation\n",
            "Why the edits made under my username Hardcore Metallica Fan were reverted? They weren't vandalisms, just closure on some GAs after I voted at New York Dolls FAC. And please don't remove the template from the talk page since I'm retired now.89.205.38.27\n",
            "  Output: [688, 75, 1, 126, 130, 177, 29, 672, 4511, 12052, 1116, 86, 331, 51, 2278, 11448, 50, 6864, 15, 60, 2756, 148, 7, 2937, 34, 117, 1221, 15190, 2825, 4, 45, 59, 244, 1, 365, 31, 1, 38, 27, 143, 73, 3462, 89, 3085, 4583, 2273, 985]\n",
            "Sequence 2\n",
            "  Input:  D'aww! He matches this background colour I'm seemingly stuck with. Thanks.  (talk) 21:51, January 11, 2016 (UTC)\n",
            "  Output: [96145, 52, 2635, 13, 555, 3809, 73, 4556, 2706, 21, 94, 38, 803, 2679, 992, 589, 8377, 182]\n"
          ],
          "name": "stdout"
        }
      ]
    },
    {
      "cell_type": "markdown",
      "metadata": {
        "id": "W7HSBWtC5WRe"
      },
      "source": [
        "After preprocessing, our vocabulary size drops to a more manageable 210,337 with a max comment size of 371 words and an average comment size of about 68 words per sentence."
      ]
    },
    {
      "cell_type": "markdown",
      "metadata": {
        "id": "fShHtvH05WRi"
      },
      "source": [
        "### Embedding\n",
        "\n",
        "The data representation for our vocabulary is one-hot encoding where every word is transformed into a vector with a 1 in its corresponding location. For example, if our word vector is [hi, how, are, you] and the word we are looking at is \"you\", the input vector for \"you\" would just be [0, 0, 0, 1]. This works fine unless our vocabulary is huge - in this case, 210,000 - which means we would end up with word vectors that consist mainly of a bunch of 0s.\n",
        "\n",
        "Instead, we can use a Word2Vec technique to find continuous embeddings for our words. Here, we'll be using the pretrained [FastText embeddings](https://github.com/facebookresearch/fastText/blob/master/pretrained-vectors.md) from Facebook to produce a 300-dimension vector for each word in our vocabulary.\n",
        "\n",
        "The benefit of this continuous embedding is that words with similar predictive power will appear closer together on our word vector. The downside is that this creates more of a black box where the words with the most predictive power get lost in the numbers."
      ]
    },
    {
      "cell_type": "code",
      "metadata": {
        "colab": {
          "base_uri": "https://localhost:8080/"
        },
        "id": "AuMf1fSS5WRk",
        "outputId": "a72795c9-cc32-4588-bbb3-800ba9ede23b"
      },
      "source": [
        "embedding_dim = 300\n",
        "\n",
        "# Get embeddings\n",
        "embeddings_index = {}\n",
        "f = open('/content/drive/MyDrive/monolingualTCC/wiki.en.vec', encoding=\"utf8\")\n",
        "for line in f:\n",
        "    values = line.rstrip().rsplit(' ', embedding_dim)\n",
        "    word = values[0]\n",
        "    coefs = np.asarray(values[1:], dtype='float32')\n",
        "    embeddings_index[word] = coefs\n",
        "f.close()\n",
        "\n",
        "print('Found {} word vectors.'.format(len(embeddings_index)))"
      ],
      "execution_count": null,
      "outputs": [
        {
          "output_type": "stream",
          "text": [
            "Found 2519371 word vectors.\n"
          ],
          "name": "stdout"
        }
      ]
    },
    {
      "cell_type": "code",
      "metadata": {
        "collapsed": true,
        "id": "qRRccbpV5WRm"
      },
      "source": [
        "# Build embedding matrix\n",
        "embedding_matrix = np.zeros((len(word_index) + 1, embedding_dim))\n",
        "for word, i in word_index.items():\n",
        "    embedding_vector = embeddings_index.get(word)\n",
        "    if embedding_vector is not None:\n",
        "        # Words not found in embedding index will be all-zeros.\n",
        "        embedding_matrix[i] = embedding_vector"
      ],
      "execution_count": null,
      "outputs": []
    },
    {
      "cell_type": "markdown",
      "metadata": {
        "id": "XEoWGiiv5WRn"
      },
      "source": [
        "The above is a lengthy process and hence saving the output to the disk."
      ]
    },
    {
      "cell_type": "code",
      "metadata": {
        "collapsed": true,
        "id": "MBYLYi-d5WRo"
      },
      "source": [
        "# Save embeddings\n",
        "import h5py\n",
        "with h5py.File('embeddings.h5', 'w') as hf:\n",
        "    hf.create_dataset(\"fasttext\",  data=embedding_matrix)"
      ],
      "execution_count": null,
      "outputs": []
    },
    {
      "cell_type": "code",
      "metadata": {
        "collapsed": true,
        "id": "v5FqqwYO5WRp"
      },
      "source": [
        "# Load embeddings\n",
        "with h5py.File('embeddings.h5', 'r') as hf:\n",
        "    embedding_matrix = hf['fasttext'][:]"
      ],
      "execution_count": null,
      "outputs": []
    },
    {
      "cell_type": "markdown",
      "metadata": {
        "id": "lNL8wfUW5WRq"
      },
      "source": [
        "## Model\n",
        "\n",
        "Long Short Term Memory with word embeddings\n",
        "\n",
        ">The RNN type model used here is the LSTM model. This model is attractive because the individual cell states in the model have the ability to remove or add information to the cell state through gates layers. This is useful in practice because it allows the model to remember insights derived from words throughout the comment. The LSTM model consist of one densely connected layer with 60 units across the concatenated word vectors for each of the words in the comment\n",
        "\n",
        "Now that the data is preprocessed and our embeddings are ready, we can build a model. We will build a neural network architecture that is comprises of the following:\n",
        "\n",
        "1. Embedding layer - word vector representations.\n",
        "2. Recurrent layer (LSTM) - run multiple filters over the data.\n",
        "3. Fully connected layer - classify input based on filters."
      ]
    },
    {
      "cell_type": "code",
      "metadata": {
        "colab": {
          "base_uri": "https://localhost:8080/"
        },
        "id": "zNBoBzuA5WRr",
        "outputId": "c8429c04-256c-4f9d-c2aa-044d0372e16a"
      },
      "source": [
        "import keras.backend\n",
        "from keras.models import Sequential\n",
        "from keras.layers import Dense, Conv1D, MaxPooling1D\n",
        "from keras.layers import Dropout, GlobalMaxPooling1D, BatchNormalization\n",
        "from keras.layers import Bidirectional\n",
        "from keras.layers.embeddings import Embedding\n",
        "from keras.optimizers import Nadam\n",
        "\n",
        "# Initate model\n",
        "model = Sequential()\n",
        "\n",
        "# Add Embedding layer\n",
        "model.add(Embedding(vocab_size + 1, embedding_dim, weights=[embedding_matrix], input_length=max_len, trainable=True))\n",
        "\n",
        "# Add Recurrent layer\n",
        "#model.add(Bidirectional(CuDNNGRU(300, return_sequences=True)))\n",
        "model.add(LSTM(60, return_sequences=True, name='lstm_layer'))\n",
        "#model.add(Conv1D(filters=128, kernel_size=5, padding='same', activation='relu'))\n",
        "model.add(MaxPooling1D(3))\n",
        "model.add(GlobalMaxPooling1D())\n",
        "model.add(BatchNormalization())\n",
        "\n",
        "# Add fully connected layers\n",
        "model.add(Dense(50, activation='relu'))\n",
        "model.add(Dropout(0.3))\n",
        "model.add(Dense(6, activation='sigmoid'))\n",
        "\n",
        "# Summarize the model\n",
        "model.summary()\n"
      ],
      "execution_count": null,
      "outputs": [
        {
          "output_type": "stream",
          "text": [
            "Model: \"sequential\"\n",
            "_________________________________________________________________\n",
            "Layer (type)                 Output Shape              Param #   \n",
            "=================================================================\n",
            "embedding (Embedding)        (None, 371, 300)          63101400  \n",
            "_________________________________________________________________\n",
            "lstm_layer (LSTM)            (None, 371, 60)           86640     \n",
            "_________________________________________________________________\n",
            "max_pooling1d (MaxPooling1D) (None, 123, 60)           0         \n",
            "_________________________________________________________________\n",
            "global_max_pooling1d (Global (None, 60)                0         \n",
            "_________________________________________________________________\n",
            "batch_normalization (BatchNo (None, 60)                240       \n",
            "_________________________________________________________________\n",
            "dense (Dense)                (None, 50)                3050      \n",
            "_________________________________________________________________\n",
            "dropout (Dropout)            (None, 50)                0         \n",
            "_________________________________________________________________\n",
            "dense_1 (Dense)              (None, 6)                 306       \n",
            "=================================================================\n",
            "Total params: 63,191,636\n",
            "Trainable params: 63,191,516\n",
            "Non-trainable params: 120\n",
            "_________________________________________________________________\n"
          ],
          "name": "stdout"
        }
      ]
    },
    {
      "cell_type": "markdown",
      "metadata": {
        "id": "FbFXlWGW5WRt"
      },
      "source": [
        "### Compile the model\n",
        "We'll be using binary crossentropy as our loss function and clipping our gradients to avoid any explosions."
      ]
    },
    {
      "cell_type": "code",
      "metadata": {
        "collapsed": true,
        "id": "2b8gmK5H5WRu"
      },
      "source": [
        "def loss(y_true, y_pred):\n",
        "     return keras.backend.binary_crossentropy(y_true, y_pred)\n",
        "\n",
        "lr = .0001\n",
        "model.compile(loss=loss, optimizer=Nadam(lr=lr, clipnorm=1.0),\n",
        "              metrics=['binary_accuracy'])"
      ],
      "execution_count": null,
      "outputs": []
    },
    {
      "cell_type": "markdown",
      "metadata": {
        "id": "-AR1uZ6b5WR2"
      },
      "source": [
        "### Evaluation Metric\n",
        "\n",
        "To evaluate our model, we'll be looking at its AUC ROC score (area under the receiver operating characteristic curve). We will be looking at the probability that our model ranks a randomly chosen positive instance higher than a randomly chosen negative one. "
      ]
    },
    {
      "cell_type": "code",
      "metadata": {
        "colab": {
          "base_uri": "https://localhost:8080/"
        },
        "id": "Om0MHk-M5WR5",
        "outputId": "ebd0467d-d39c-47a0-e7f8-ffdfc8e0671d"
      },
      "source": [
        "from sklearn.model_selection import train_test_split\n",
        "from sklearn.metrics import roc_auc_score\n",
        "from keras.callbacks import Callback\n",
        "\n",
        "class RocAucEvaluation(Callback):\n",
        "    def __init__(self, filepath, validation_data=(), interval=1, max_epoch = 100):\n",
        "        super(Callback, self).__init__()\n",
        "        # Initialize state variables\n",
        "        print(\"After init\")\n",
        "        self.interval = interval\n",
        "        self.filepath = filepath\n",
        "        self.stopped_epoch = max_epoch\n",
        "        self.best = 0\n",
        "        self.X_val, self.y_val = validation_data\n",
        "        self.y_pred = np.zeros(self.y_val.shape)\n",
        "\n",
        "    def on_epoch_end(self, epoch, logs={}):\n",
        "        print(\"Epoch end 1\")\n",
        "        if epoch % self.interval == 0:\n",
        "            y_pred = self.model.predict_proba(self.X_val, verbose=0)\n",
        "            current = roc_auc_score(self.y_val, y_pred)\n",
        "            logs['roc_auc_val'] = current\n",
        "\n",
        "            if current > self.best: #save model\n",
        "                print(\" - AUC - improved from {:.5f} to {:.5f}\".format(self.best, current))\n",
        "                self.best = current\n",
        "                self.y_pred = y_pred\n",
        "                self.stopped_epoch = epoch+1\n",
        "                self.model.save(self.filepath, overwrite=True)\n",
        "            else:\n",
        "                print(\" - AUC - did not improve\")\n",
        "            \n",
        "[X, X_val, y, y_val] = train_test_split(processed_X_train, y_train, test_size=0.03, shuffle=False)\n",
        "RocAuc = RocAucEvaluation(filepath='model.best.hdf5',validation_data=(X_val, y_val), interval=1)"
      ],
      "execution_count": null,
      "outputs": [
        {
          "output_type": "stream",
          "text": [
            "After init\n"
          ],
          "name": "stdout"
        }
      ]
    },
    {
      "cell_type": "markdown",
      "metadata": {
        "id": "Pz6jqHmK5WR7"
      },
      "source": [
        "### Train the model\n",
        "Using a batch size of 64 and set the number of epochs as 3"
      ]
    },
    {
      "cell_type": "code",
      "metadata": {
        "colab": {
          "base_uri": "https://localhost:8080/"
        },
        "id": "TlGZ731p5WR8",
        "outputId": "71a891f0-cc72-4811-e612-1cbde1b5e18e"
      },
      "source": [
        "from keras.callbacks import EarlyStopping, ModelCheckpoint\n",
        "\n",
        "model.compile(loss='binary_crossentropy', optimizer='Adam')\n",
        "\n",
        "# Set variables\n",
        "batch_size = 64\n",
        "epochs = 3\n",
        "\n",
        "# Set early stopping\n",
        "early_stop = EarlyStopping(monitor=\"roc_auc_val\", mode=\"max\", patience=2)\n",
        "                                                    \n",
        "# Train\n",
        "graph = model.fit(X, y, batch_size=batch_size, epochs=epochs,\n",
        "                  validation_data=(X_val, y_val), callbacks=[RocAuc, early_stop],\n",
        "                  verbose=1, shuffle=False)"
      ],
      "execution_count": null,
      "outputs": [
        {
          "output_type": "stream",
          "text": [
            "Epoch 1/3\n",
            "2419/2419 [==============================] - 1421s 584ms/step - loss: 0.1218 - val_loss: 0.0518\n",
            "Epoch end 1\n"
          ],
          "name": "stdout"
        },
        {
          "output_type": "stream",
          "text": [
            "/usr/local/lib/python3.6/dist-packages/tensorflow/python/keras/engine/sequential.py:425: UserWarning: `model.predict_proba()` is deprecated and will be removed after 2021-01-01. Please use `model.predict()` instead.\n",
            "  warnings.warn('`model.predict_proba()` is deprecated and '\n"
          ],
          "name": "stderr"
        },
        {
          "output_type": "stream",
          "text": [
            " - AUC - improved from 0.00000 to 0.98402\n",
            "Epoch 2/3\n",
            "2419/2419 [==============================] - 1409s 582ms/step - loss: 0.0421 - val_loss: 0.0524\n",
            "Epoch end 1\n"
          ],
          "name": "stdout"
        },
        {
          "output_type": "stream",
          "text": [
            "/usr/local/lib/python3.6/dist-packages/tensorflow/python/keras/engine/sequential.py:425: UserWarning: `model.predict_proba()` is deprecated and will be removed after 2021-01-01. Please use `model.predict()` instead.\n",
            "  warnings.warn('`model.predict_proba()` is deprecated and '\n"
          ],
          "name": "stderr"
        },
        {
          "output_type": "stream",
          "text": [
            " - AUC - improved from 0.98402 to 0.98635\n",
            "Epoch 3/3\n",
            "2419/2419 [==============================] - 1468s 607ms/step - loss: 0.0327 - val_loss: 0.0504\n",
            "Epoch end 1\n"
          ],
          "name": "stdout"
        },
        {
          "output_type": "stream",
          "text": [
            "/usr/local/lib/python3.6/dist-packages/tensorflow/python/keras/engine/sequential.py:425: UserWarning: `model.predict_proba()` is deprecated and will be removed after 2021-01-01. Please use `model.predict()` instead.\n",
            "  warnings.warn('`model.predict_proba()` is deprecated and '\n"
          ],
          "name": "stderr"
        },
        {
          "output_type": "stream",
          "text": [
            " - AUC - improved from 0.98635 to 0.98707\n"
          ],
          "name": "stdout"
        }
      ]
    },
    {
      "cell_type": "markdown",
      "metadata": {
        "id": "MFs44Ejt5WR-"
      },
      "source": [
        "After training our model, we end up with an AUC ROC score of 98.707% higher as compared to 97.991% of the CNN with character embeddings."
      ]
    },
    {
      "cell_type": "code",
      "metadata": {
        "colab": {
          "base_uri": "https://localhost:8080/"
        },
        "id": "jl7pzsVmO_Iz",
        "outputId": "5db5f0e7-1b01-447a-f823-d2f0223f9481"
      },
      "source": [
        "graph.history['val_loss']\n",
        "for key in graph.history.keys():\n",
        "    print(key)"
      ],
      "execution_count": null,
      "outputs": [
        {
          "output_type": "stream",
          "text": [
            "loss\n",
            "val_loss\n",
            "roc_auc_val\n"
          ],
          "name": "stdout"
        }
      ]
    },
    {
      "cell_type": "code",
      "metadata": {
        "colab": {
          "base_uri": "https://localhost:8080/",
          "height": 295
        },
        "id": "NeEVR4Fe5WR_",
        "outputId": "9efc5736-c4d0-404e-fe1b-2175f4e25c78"
      },
      "source": [
        "# Visualize history of loss\n",
        "plt.plot(graph.history['loss'])\n",
        "plt.plot(graph.history['val_loss'])\n",
        "plt.title('model loss')\n",
        "plt.ylabel('loss')\n",
        "plt.xlabel('epoch')\n",
        "plt.legend(['train', 'test'], loc='upper left')\n",
        "plt.show()"
      ],
      "execution_count": null,
      "outputs": [
        {
          "output_type": "display_data",
          "data": {
            "image/png": "[encoded data removed]",
            "text/plain": [
              "<Figure size 432x288 with 1 Axes>"
            ]
          },
          "metadata": {
            "tags": [],
            "needs_background": "light"
          }
        }
      ]
    },
    {
      "cell_type": "markdown",
      "metadata": {
        "id": "0vqzR1Dy5WSA"
      },
      "source": [
        "### Load best weights and predict"
      ]
    },
    {
      "cell_type": "code",
      "metadata": {
        "collapsed": true,
        "id": "81GRuaxx5WSB"
      },
      "source": [
        "predictions = model.predict(processed_X_test, verbose=0)"
      ],
      "execution_count": null,
      "outputs": []
    },
    {
      "cell_type": "markdown",
      "metadata": {
        "id": "ZJBC1ZD45WSE"
      },
      "source": [
        "### App prediction\n",
        "An app pipeline that can be put into production for toxic comment classification. It will take in a string and return the odds that it is any one of the toxic classifications."
      ]
    },
    {
      "cell_type": "code",
      "metadata": {
        "colab": {
          "base_uri": "https://localhost:8080/"
        },
        "id": "05YXao2l5WSF",
        "outputId": "f3a31887-5677-44ac-eb6a-bb0cb0658365"
      },
      "source": [
        "def toxicity_level(string):\n",
        "    \"\"\"\n",
        "    Return toxicity probability based on inputed string.\n",
        "    \"\"\"\n",
        "    # Process string\n",
        "    new_string = [string]\n",
        "    new_string = tokenizer.texts_to_sequences(new_string)\n",
        "    new_string = pad_sequences(new_string, maxlen=max_len, padding='post', truncating='post')\n",
        "    \n",
        "    # Predict\n",
        "    prediction = model.predict(new_string)\n",
        "    \n",
        "    # Print output\n",
        "    print(\"Toxicity levels for '{}':\".format(string))\n",
        "    print('Toxic:         {:.0%}'.format(prediction[0][0]))\n",
        "    print('Severe Toxic:  {:.0%}'.format(prediction[0][1]))\n",
        "    print('Obscene:       {:.0%}'.format(prediction[0][2]))\n",
        "    print('Threat:        {:.0%}'.format(prediction[0][3]))\n",
        "    print('Insult:        {:.0%}'.format(prediction[0][4]))\n",
        "    print('Identity Hate: {:.0%}'.format(prediction[0][5]))\n",
        "    print()\n",
        "    \n",
        "    return\n",
        "\n",
        "toxicity_level('go jump off a bridge jerk')\n",
        "toxicity_level('i will kill you')\n",
        "toxicity_level('have a nice day')\n",
        "toxicity_level('hola, como estas')\n",
        "toxicity_level('hola mierda joder')\n",
        "toxicity_level('fuck off!!')"
      ],
      "execution_count": null,
      "outputs": [
        {
          "output_type": "stream",
          "text": [
            "Toxicity levels for 'go jump off a bridge jerk':\n",
            "Toxic:         100%\n",
            "Severe Toxic:  3%\n",
            "Obscene:       73%\n",
            "Threat:        4%\n",
            "Insult:        94%\n",
            "Identity Hate: 0%\n",
            "\n",
            "Toxicity levels for 'i will kill you':\n",
            "Toxic:         98%\n",
            "Severe Toxic:  2%\n",
            "Obscene:       2%\n",
            "Threat:        97%\n",
            "Insult:        6%\n",
            "Identity Hate: 1%\n",
            "\n",
            "Toxicity levels for 'have a nice day':\n",
            "Toxic:         0%\n",
            "Severe Toxic:  0%\n",
            "Obscene:       0%\n",
            "Threat:        0%\n",
            "Insult:        0%\n",
            "Identity Hate: 0%\n",
            "\n",
            "Toxicity levels for 'hola, como estas':\n",
            "Toxic:         0%\n",
            "Severe Toxic:  0%\n",
            "Obscene:       0%\n",
            "Threat:        0%\n",
            "Insult:        0%\n",
            "Identity Hate: 0%\n",
            "\n",
            "Toxicity levels for 'hola mierda joder':\n",
            "Toxic:         0%\n",
            "Severe Toxic:  0%\n",
            "Obscene:       0%\n",
            "Threat:        0%\n",
            "Insult:        0%\n",
            "Identity Hate: 0%\n",
            "\n",
            "Toxicity levels for 'fuck off!!':\n",
            "Toxic:         100%\n",
            "Severe Toxic:  18%\n",
            "Obscene:       100%\n",
            "Threat:        0%\n",
            "Insult:        69%\n",
            "Identity Hate: 0%\n",
            "\n"
          ],
          "name": "stdout"
        }
      ]
    },
    {
      "cell_type": "code",
      "metadata": {
        "colab": {
          "base_uri": "https://localhost:8080/"
        },
        "id": "3EjVyYv15WSH",
        "outputId": "14be6dba-bcda-429b-dc32-8b6011220e09"
      },
      "source": [
        "toxicity_level('Hello, How are you?')"
      ],
      "execution_count": null,
      "outputs": [
        {
          "output_type": "stream",
          "text": [
            "Toxicity levels for 'Hello, How are you?':\n",
            "Toxic:         0%\n",
            "Severe Toxic:  0%\n",
            "Obscene:       0%\n",
            "Threat:        0%\n",
            "Insult:        0%\n",
            "Identity Hate: 0%\n",
            "\n"
          ],
          "name": "stdout"
        }
      ]
    }
  ]
}
