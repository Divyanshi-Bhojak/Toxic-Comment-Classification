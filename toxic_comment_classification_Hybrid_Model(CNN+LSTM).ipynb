{
  "nbformat": 4,
  "nbformat_minor": 0,
  "metadata": {
    "kernelspec": {
      "display_name": "Python 3",
      "language": "python",
      "name": "python3"
    },
    "language_info": {
      "codemirror_mode": {
        "name": "ipython",
        "version": 3
      },
      "file_extension": ".py",
      "mimetype": "text/x-python",
      "name": "python",
      "nbconvert_exporter": "python",
      "pygments_lexer": "ipython3",
      "version": "3.6.3"
    },
    "colab": {
      "name": "toxic_comment_classification-Hybrid_Model(CNN+LSTM).ipynb",
      "provenance": [],
      "collapsed_sections": []
    },
    "accelerator": "TPU"
  },
  "cells": [
    {
      "cell_type": "markdown",
      "metadata": {
        "id": "kmlFZAdK5WQq"
      },
      "source": [
        "# Approach\n",
        "\n",
        "The idea is to use the train dataset to train the models with the words in the comments as predictor variables and to predict the probability of toxicity level of a comment. A pre- trained model that gives the best accuracy to various user comments to combat the ongoing issue of online forum abuse. Our project is focused on developing a series of neural network models. The goal is to find the strengths and weakness of different Deep Learning models on the text classification task. We developed the  Neural Network models here ie  Convolution Neural Network (CNN+LSTM with word-level embedding)."
      ]
    },
    {
      "cell_type": "markdown",
      "metadata": {
        "id": "zCu1r9mxXB4a"
      },
      "source": [
        "# Toxic Comment Classification\n",
        "\n",
        "In this notebook, we'll be developing a Neural Network models that can classify string comments based on their toxicity:\n",
        "* `toxic`\n",
        "* `severe_toxic`\n",
        "* `obscene`\n",
        "* `threat`\n",
        "* `insult`\n",
        "* `identity_hate`\n"
      ]
    },
    {
      "cell_type": "code",
      "metadata": {
        "id": "lb21yda6XB4d"
      },
      "source": [
        "import sys, os, re, csv, codecs, numpy as np, pandas as pd\n",
        "import matplotlib.pyplot as plt\n",
        "from IPython.core.display import display, HTML\n",
        "from keras.preprocessing.text import Tokenizer\n",
        "from keras.preprocessing.sequence import pad_sequences\n",
        "from keras.layers import Dense, Input, LSTM, Embedding, Dropout, Activation\n",
        "from keras.layers import Bidirectional, GlobalMaxPool1D\n",
        "from keras.models import Model\n",
        "from keras import initializers, regularizers, constraints, optimizers, layers"
      ],
      "execution_count": null,
      "outputs": []
    },
    {
      "cell_type": "code",
      "metadata": {
        "colab": {
          "base_uri": "https://localhost:8080/"
        },
        "id": "vH3sETj9XRpF",
        "outputId": "38eed72c-8b4e-4f73-ca94-afd05dec63ee"
      },
      "source": [
        "!pip install pyspark"
      ],
      "execution_count": null,
      "outputs": [
        {
          "output_type": "stream",
          "text": [
            "Collecting pyspark\n",
            "\u001b[?25l  Downloading https://files.pythonhosted.org/packages/f0/26/198fc8c0b98580f617cb03cb298c6056587b8f0447e20fa40c5b634ced77/pyspark-3.0.1.tar.gz (204.2MB)\n",
            "\u001b[K     |████████████████████████████████| 204.2MB 74kB/s \n",
            "\u001b[?25hCollecting py4j==0.10.9\n",
            "\u001b[?25l  Downloading https://files.pythonhosted.org/packages/9e/b6/6a4fb90cd235dc8e265a6a2067f2a2c99f0d91787f06aca4bcf7c23f3f80/py4j-0.10.9-py2.py3-none-any.whl (198kB)\n",
            "\u001b[K     |████████████████████████████████| 204kB 44.5MB/s \n",
            "\u001b[?25hBuilding wheels for collected packages: pyspark\n",
            "  Building wheel for pyspark (setup.py) ... \u001b[?25l\u001b[?25hdone\n",
            "  Created wheel for pyspark: filename=pyspark-3.0.1-py2.py3-none-any.whl size=204612242 sha256=030fbfe19559622d353716092d70714752212a7d7b85c0429c1e63501bcfb901\n",
            "  Stored in directory: /root/.cache/pip/wheels/5e/bd/07/031766ca628adec8435bb40f0bd83bb676ce65ff4007f8e73f\n",
            "Successfully built pyspark\n",
            "Installing collected packages: py4j, pyspark\n",
            "Successfully installed py4j-0.10.9 pyspark-3.0.1\n"
          ],
          "name": "stdout"
        }
      ]
    },
    {
      "cell_type": "code",
      "metadata": {
        "collapsed": true,
        "id": "mr7RrKlNXB4h"
      },
      "source": [
        "#function for ploting history of the model training\n",
        "from pyspark.sql import Row\n",
        "def plot_history(history_arg):\n",
        "  array = []\n",
        "  i =1\n",
        "  j =1\n",
        "  for acc in history_arg.history['acc']:\n",
        "    array.append(Row(epoch=i, accuracy=float(acc)))\n",
        "    i = i+1\n",
        "  acc_df = sqlContext.createDataFrame((array))\n",
        "\n",
        "  array = []\n",
        "  for loss in history_arg.history['loss']:\n",
        "      array.append(Row(epoch = j, loss = float(loss)))\n",
        "      j = j+1\n",
        "  loss_df = sqlContext.createDataFrame(array)\n",
        "\n",
        "  display_df = acc_df.join(loss_df,on=(\"epoch\")).orderBy(\"epoch\")\n",
        "  return display_df"
      ],
      "execution_count": null,
      "outputs": []
    },
    {
      "cell_type": "markdown",
      "metadata": {
        "id": "3w6dpewSXB4l"
      },
      "source": [
        "### Explore Data\n",
        "\n",
        "Extract the features and labels and take a look at sample data."
      ]
    },
    {
      "cell_type": "code",
      "metadata": {
        "colab": {
          "base_uri": "https://localhost:8080/"
        },
        "id": "Thw7YSdYX9UN",
        "outputId": "9e48fcc7-2278-4fd4-fefb-b09e812380e4"
      },
      "source": [
        "from google.colab import drive\n",
        "drive.mount('/content/drive')"
      ],
      "execution_count": null,
      "outputs": [
        {
          "output_type": "stream",
          "text": [
            "Mounted at /content/drive\n"
          ],
          "name": "stdout"
        }
      ]
    },
    {
      "cell_type": "code",
      "metadata": {
        "collapsed": true,
        "id": "CSySjfWjXB4n"
      },
      "source": [
        "from pyspark.sql.types import *\n",
        "\n",
        "#Class labels\n",
        "list_classes = [\"toxic\", \"severe_toxic\", \"obscene\", \"threat\", \"insult\", \"identity_hate\"]\n",
        "\n",
        "#Read the data\n",
        "toxicWordsTrain = pd.read_csv(\"/content/drive/MyDrive/DL_TCC/train.csv\");\n",
        "toxicWordsTest = pd.read_csv(\"/content/drive/MyDrive/DL_TCC/test.csv\")\n",
        "\n",
        "y_train = toxicWordsTrain[list_classes].values\n",
        "x_train = toxicWordsTrain[\"comment_text\"]\n",
        "x_test  = toxicWordsTest[\"comment_text\"]\n",
        "\n",
        "submission = pd.read_csv('/content/drive/MyDrive/DL_TCC/sample_submission.csv')"
      ],
      "execution_count": null,
      "outputs": []
    },
    {
      "cell_type": "markdown",
      "metadata": {
        "id": "LrGV-zSFXB4n"
      },
      "source": [
        "### Train Data \n",
        "On analyzing the train data set, it was noted that the toxic levels in the comments are classified as shown below:"
      ]
    },
    {
      "cell_type": "code",
      "metadata": {
        "colab": {
          "base_uri": "https://localhost:8080/",
          "height": 481
        },
        "id": "afRs6JucXB4p",
        "outputId": "612976ac-310d-46ae-cd22-00fbec17e6f9"
      },
      "source": [
        "import seaborn as sns\n",
        "colors_list = [\"brownish green\", \"pine green\", \"ugly purple\",\n",
        "               \"blood\", \"deep blue\", \"brown\", \"azure\"]\n",
        "\n",
        "palette= sns.xkcd_palette(colors_list)\n",
        "\n",
        "x=toxicWordsTrain.iloc[:,2:].sum()\n",
        "#print(x.index)\n",
        "plt.figure(figsize=(9,6))\n",
        "ax= sns.barplot(x.index, x.values,palette=palette)\n",
        "plt.title(\"Class\")\n",
        "plt.ylabel('Occurrences', fontsize=12)\n",
        "plt.xlabel('Type ')\n",
        "rects = ax.patches\n",
        "labels = x.values\n",
        "for rect, label in zip(rects, labels):\n",
        "    height = rect.get_height()\n",
        "    ax.text(rect.get_x() + rect.get_width()/2, height + 10, label, \n",
        "            ha='center', va='bottom')\n",
        "\n",
        "display(plt.show())"
      ],
      "execution_count": null,
      "outputs": [
        {
          "output_type": "stream",
          "text": [
            "/usr/local/lib/python3.6/dist-packages/seaborn/_decorators.py:43: FutureWarning: Pass the following variables as keyword args: x, y. From version 0.12, the only valid positional argument will be `data`, and passing other arguments without an explicit keyword will result in an error or misinterpretation.\n",
            "  FutureWarning\n"
          ],
          "name": "stderr"
        },
        {
          "output_type": "display_data",
          "data": {
            "image/png": "[encoded data removed]",
            "text/plain": [
              "<Figure size 648x432 with 1 Axes>"
            ]
          },
          "metadata": {
            "tags": [],
            "needs_background": "light"
          }
        },
        {
          "output_type": "display_data",
          "data": {
            "text/plain": [
              "None"
            ]
          },
          "metadata": {
            "tags": []
          }
        }
      ]
    },
    {
      "cell_type": "code",
      "metadata": {
        "colab": {
          "base_uri": "https://localhost:8080/"
        },
        "id": "HIsvy3VcXB4s",
        "outputId": "b69a08ff-0e6b-4cfd-f690-059a15a09dda"
      },
      "source": [
        "# Sample from dataset\n",
        "for sample_i in range(3):\n",
        "    print('Comment #{}:  {}'.format(sample_i + 1, x_train[sample_i]))\n",
        "    print('Label #{}:    {}'.format(sample_i + 1, y_train[sample_i]))"
      ],
      "execution_count": null,
      "outputs": [
        {
          "output_type": "stream",
          "text": [
            "Comment #1:  Explanation\n",
            "Why the edits made under my username Hardcore Metallica Fan were reverted? They weren't vandalisms, just closure on some GAs after I voted at New York Dolls FAC. And please don't remove the template from the talk page since I'm retired now.89.205.38.27\n",
            "Label #1:    [0 0 0 0 0 0]\n",
            "Comment #2:  D'aww! He matches this background colour I'm seemingly stuck with. Thanks.  (talk) 21:51, January 11, 2016 (UTC)\n",
            "Label #2:    [0 0 0 0 0 0]\n",
            "Comment #3:  Hey man, I'm really not trying to edit war. It's just that this guy is constantly removing relevant information and talking to me through edits instead of my talk page. He seems to care more about the formatting than the actual info.\n",
            "Label #3:    [0 0 0 0 0 0]\n"
          ],
          "name": "stdout"
        }
      ]
    },
    {
      "cell_type": "code",
      "metadata": {
        "colab": {
          "base_uri": "https://localhost:8080/"
        },
        "id": "BAh4VVpHXB4w",
        "outputId": "8959fdef-642d-4d76-fb07-4f3cabe51d85"
      },
      "source": [
        "# Explore vocabulary\n",
        "import collections\n",
        "from tqdm import tqdm\n",
        "\n",
        "# Create a counter object for each dataset\n",
        "word_counter = collections.Counter([word for sentence in tqdm(x_train, total=len(x_train)) \\\n",
        "                                                              for word in sentence.split()])\n",
        "\n",
        "print('{} words.'.format(len([word for sentence in x_train for word in sentence.split()])))\n",
        "print('{} unique words.'.format(len(word_counter)))\n",
        "print('10 Most common words in the dataset:')\n",
        "print('\"' + '\" \"'.join(list(zip(*word_counter.most_common(10)))[0]) + '\"')"
      ],
      "execution_count": null,
      "outputs": [
        {
          "output_type": "stream",
          "text": [
            "100%|██████████| 159571/159571 [00:01<00:00, 114431.86it/s]\n"
          ],
          "name": "stderr"
        },
        {
          "output_type": "stream",
          "text": [
            "10734904 words.\n",
            "532299 unique words.\n",
            "10 Most common words in the dataset:\n",
            "\"the\" \"to\" \"of\" \"and\" \"a\" \"I\" \"is\" \"you\" \"that\" \"in\"\n"
          ],
          "name": "stdout"
        }
      ]
    },
    {
      "cell_type": "markdown",
      "metadata": {
        "id": "P1DkJeinXB4z"
      },
      "source": [
        "The dataset contains 10,734,904 words, 532,299 of which are unique, and the 10 most common being: \"the\", \"to\", \"of\", \"and\", \"a\", \"I\", \"is\", \"you\", \"that\", and \"in\". One problem here is that we are counting uppercase words as different from lower case words and a bunch of other symbols that aren't really useful for our goal.\n",
        "A data cleanup will be done in the next step."
      ]
    },
    {
      "cell_type": "markdown",
      "metadata": {
        "id": "y3W7gS86XB41"
      },
      "source": [
        "### Preprocessing the data\n",
        "\n",
        "We preprocess our data a bit so that it's in a format we can input into a neural network. The process includes:\n",
        "\n",
        "1. Remove irrelevant characters (```!\"#$%&()*+,-./:;<=>?@[\\\\]^_`{|}~\\t\\n```).\n",
        "2. Convert all letters to lowercase (HeLlO -> hello).\n",
        "3. Tokenize our words (hi how are you -> [23, 1, 5, 13]).\n",
        "4. Standaridize our input length with padding (hi how are you -> [23, 1, 5, 13, 0, 0, 0]).\n"
      ]
    },
    {
      "cell_type": "code",
      "metadata": {
        "colab": {
          "base_uri": "https://localhost:8080/"
        },
        "id": "Cwb-weMvXB42",
        "outputId": "f8b770ee-3271-4f71-ed24-5a6cb31ef1b1"
      },
      "source": [
        "# Tokenize and Pad\n",
        "from keras.preprocessing.text import Tokenizer\n",
        "from keras.preprocessing.sequence import pad_sequences\n",
        "\n",
        "# Create tokenizer\n",
        "tokenizer = Tokenizer(num_words=None,\n",
        "                      filters='!\"#$%&()*+,-./:;<=>?@[\\\\]^_`{|}~\\t\\n',\n",
        "                      lower=True,\n",
        "                      split=\" \",\n",
        "                      char_level=False)\n",
        "\n",
        "# Fit and run tokenizer\n",
        "tokenizer.fit_on_texts(list(x_train))\n",
        "tokenized_train = tokenizer.texts_to_sequences(x_train)\n",
        "tokenized_test = tokenizer.texts_to_sequences(x_test)\n",
        "word_index = tokenizer.word_index\n",
        "\n",
        "# Extract variables\n",
        "vocab_size = len(word_index)\n",
        "print('Vocab size: {}'.format(vocab_size))\n",
        "longest = max(len(seq) for seq in tokenized_train)\n",
        "print(\"Longest comment size: {}\".format(longest))\n",
        "average = np.mean([len(seq) for seq in tokenized_train])\n",
        "print(\"Average comment size: {}\".format(average))\n",
        "stdev = np.std([len(seq) for seq in tokenized_train])\n",
        "print(\"Stdev of comment size: {}\".format(stdev))\n",
        "max_len = int(average + stdev * 3)\n",
        "print('Max comment size: {}'.format(max_len))\n",
        "print()\n",
        "\n",
        "# Pad sequences\n",
        "processed_X_train = pad_sequences(tokenized_train, maxlen=max_len, padding='post', truncating='post')\n",
        "processed_X_test = pad_sequences(tokenized_test, maxlen=max_len, padding='post', truncating='post')\n",
        "\n",
        "# Sample tokenization\n",
        "for sample_i, (sent, token_sent) in enumerate(zip(x_train[:2], tokenized_train[:2])):\n",
        "    print('Sequence {}'.format(sample_i + 1))\n",
        "    print('  Input:  {}'.format(sent))\n",
        "    print('  Output: {}'.format(token_sent))"
      ],
      "execution_count": null,
      "outputs": [
        {
          "output_type": "stream",
          "text": [
            "Vocab size: 210337\n",
            "Longest comment size: 1403\n",
            "Average comment size: 68.22156908210138\n",
            "Stdev of comment size: 101.07344657013672\n",
            "Max comment size: 371\n",
            "\n",
            "Sequence 1\n",
            "  Input:  Explanation\n",
            "Why the edits made under my username Hardcore Metallica Fan were reverted? They weren't vandalisms, just closure on some GAs after I voted at New York Dolls FAC. And please don't remove the template from the talk page since I'm retired now.89.205.38.27\n",
            "  Output: [688, 75, 1, 126, 130, 177, 29, 672, 4511, 12052, 1116, 86, 331, 51, 2278, 11448, 50, 6864, 15, 60, 2756, 148, 7, 2937, 34, 117, 1221, 15190, 2825, 4, 45, 59, 244, 1, 365, 31, 1, 38, 27, 143, 73, 3462, 89, 3085, 4583, 2273, 985]\n",
            "Sequence 2\n",
            "  Input:  D'aww! He matches this background colour I'm seemingly stuck with. Thanks.  (talk) 21:51, January 11, 2016 (UTC)\n",
            "  Output: [96145, 52, 2635, 13, 555, 3809, 73, 4556, 2706, 21, 94, 38, 803, 2679, 992, 589, 8377, 182]\n"
          ],
          "name": "stdout"
        }
      ]
    },
    {
      "cell_type": "markdown",
      "metadata": {
        "id": "92v26UTHXB43"
      },
      "source": [
        "After preprocessing, our vocabulary size drops to a more manageable 210,337 with a max comment size of 371 words and an average comment size of about 68 words per sentence."
      ]
    },
    {
      "cell_type": "markdown",
      "metadata": {
        "id": "erTGyyS3XB43"
      },
      "source": [
        "### Embedding\n",
        "\n",
        "The data representation for our vocabulary is one-hot encoding where every word is transformed into a vector with a 1 in its corresponding location. For example, if our word vector is [hi, how, are, you] and the word we are looking at is \"you\", the input vector for \"you\" would just be [0, 0, 0, 1]. This works fine unless our vocabulary is huge - in this case, 210,000 - which means we would end up with word vectors that consist mainly of a bunch of 0s.\n",
        "\n",
        "Instead, we can use a Word2Vec technique to find continuous embeddings for our words. Here, we'll be using the pretrained [FastText embeddings](https://github.com/facebookresearch/fastText/blob/master/pretrained-vectors.md) from Facebook to produce a 300-dimension vector for each word in our vocabulary.\n",
        "\n",
        "\n",
        "The benefit of this continuous embedding is that words with similar predictive power will appear closer together on our word vector. The downside is that this creates more of a black box where the words with the most predictive power get lost in the numbers."
      ]
    },
    {
      "cell_type": "code",
      "metadata": {
        "colab": {
          "base_uri": "https://localhost:8080/"
        },
        "id": "19hRldVTXB44",
        "outputId": "75ebb4f1-a60b-4195-daf6-e3a10faba45a"
      },
      "source": [
        "embedding_dim = 300\n",
        "\n",
        "# Get embeddings\n",
        "embeddings_index = {}\n",
        "f = open('/content/drive/MyDrive/DL_TCC/wiki.en.vec', encoding=\"utf8\")\n",
        "for line in f:\n",
        "    values = line.rstrip().rsplit(' ', embedding_dim)\n",
        "    word = values[0]\n",
        "    coefs = np.asarray(values[1:], dtype='float32')\n",
        "    embeddings_index[word] = coefs\n",
        "f.close()\n",
        "\n",
        "print('Found {} word vectors.'.format(len(embeddings_index)))"
      ],
      "execution_count": null,
      "outputs": [
        {
          "output_type": "stream",
          "text": [
            "Found 2519371 word vectors.\n"
          ],
          "name": "stdout"
        }
      ]
    },
    {
      "cell_type": "code",
      "metadata": {
        "collapsed": true,
        "id": "X0n0BvpnXB45"
      },
      "source": [
        "# Build embedding matrix\n",
        "embedding_matrix = np.zeros((len(word_index) + 1, embedding_dim))\n",
        "for word, i in word_index.items():\n",
        "    embedding_vector = embeddings_index.get(word)\n",
        "    if embedding_vector is not None:\n",
        "        # Words not found in embedding index will be all-zeros.\n",
        "        embedding_matrix[i] = embedding_vector"
      ],
      "execution_count": null,
      "outputs": []
    },
    {
      "cell_type": "markdown",
      "metadata": {
        "id": "SpkvR91GXB46"
      },
      "source": [
        "The above is a lengthy process and hence saving the output to the disk."
      ]
    },
    {
      "cell_type": "code",
      "metadata": {
        "collapsed": true,
        "id": "umoryZFGXB47"
      },
      "source": [
        "# Save embeddings\n",
        "import h5py\n",
        "with h5py.File('embeddings.h5', 'w') as hf:\n",
        "    hf.create_dataset(\"fasttext\",  data=embedding_matrix)"
      ],
      "execution_count": null,
      "outputs": []
    },
    {
      "cell_type": "code",
      "metadata": {
        "collapsed": true,
        "id": "yQUILm1oXB5F"
      },
      "source": [
        "# Load embeddings\n",
        "with h5py.File('embeddings.h5', 'r') as hf:\n",
        "    embedding_matrix = hf['fasttext'][:]"
      ],
      "execution_count": null,
      "outputs": []
    },
    {
      "cell_type": "markdown",
      "metadata": {
        "id": "Z7tb4r5NXB5G"
      },
      "source": [
        "## Model\n",
        "\n",
        "A hybrid model which is a combination of CNN and LSTM with word embeddings\n",
        "\n"
      ]
    },
    {
      "cell_type": "code",
      "metadata": {
        "colab": {
          "base_uri": "https://localhost:8080/"
        },
        "id": "RcXiCkURZ2f3",
        "outputId": "59c0d757-c660-4491-c91d-c0154f054427"
      },
      "source": [
        "!pip install keras"
      ],
      "execution_count": null,
      "outputs": [
        {
          "output_type": "stream",
          "text": [
            "Requirement already satisfied: keras in /usr/local/lib/python3.6/dist-packages (2.4.3)\n",
            "Requirement already satisfied: h5py in /usr/local/lib/python3.6/dist-packages (from keras) (2.10.0)\n",
            "Requirement already satisfied: numpy>=1.9.1 in /usr/local/lib/python3.6/dist-packages (from keras) (1.19.4)\n",
            "Requirement already satisfied: scipy>=0.14 in /usr/local/lib/python3.6/dist-packages (from keras) (1.4.1)\n",
            "Requirement already satisfied: pyyaml in /usr/local/lib/python3.6/dist-packages (from keras) (3.13)\n",
            "Requirement already satisfied: six in /usr/local/lib/python3.6/dist-packages (from h5py->keras) (1.15.0)\n"
          ],
          "name": "stdout"
        }
      ]
    },
    {
      "cell_type": "code",
      "metadata": {
        "colab": {
          "base_uri": "https://localhost:8080/"
        },
        "id": "ehqf81FrXB5H",
        "outputId": "e5f4d2b6-3f25-4268-c4d1-a0777a256cf9"
      },
      "source": [
        "import keras.backend\n",
        "from keras.models import Sequential\n",
        "from keras.layers import  Dense, Conv1D, MaxPooling1D\n",
        "from keras.layers import Dropout, GlobalMaxPooling1D, BatchNormalization\n",
        "from keras.layers import Bidirectional\n",
        "from keras.layers.embeddings import Embedding\n",
        "from keras.optimizers import Nadam\n",
        "\n",
        "# Initate model\n",
        "model = Sequential()\n",
        "\n",
        "# Add Embedding layer\n",
        "model.add(Embedding(vocab_size + 1, embedding_dim, weights=[embedding_matrix], input_length=max_len, trainable=True))\n",
        "\n",
        "# Add Recurrent layer\n",
        "model.add(LSTM(60, return_sequences=True, name='lstm_layer'))\n",
        "model.add(Conv1D(filters=128, kernel_size=5, padding='same', activation='relu'))\n",
        "model.add(MaxPooling1D(3))\n",
        "model.add(GlobalMaxPooling1D())\n",
        "model.add(BatchNormalization())\n",
        "\n",
        "# Add fully connected layers\n",
        "model.add(Dense(50, activation='relu'))\n",
        "model.add(Dropout(0.3))\n",
        "model.add(Dense(6, activation='sigmoid'))\n",
        "\n",
        "# Summarize the model\n",
        "model.summary()\n"
      ],
      "execution_count": null,
      "outputs": [
        {
          "output_type": "stream",
          "text": [
            "Model: \"sequential\"\n",
            "_________________________________________________________________\n",
            "Layer (type)                 Output Shape              Param #   \n",
            "=================================================================\n",
            "embedding (Embedding)        (None, 371, 300)          63101400  \n",
            "_________________________________________________________________\n",
            "lstm_layer (LSTM)            (None, 371, 60)           86640     \n",
            "_________________________________________________________________\n",
            "conv1d (Conv1D)              (None, 371, 128)          38528     \n",
            "_________________________________________________________________\n",
            "max_pooling1d (MaxPooling1D) (None, 123, 128)          0         \n",
            "_________________________________________________________________\n",
            "global_max_pooling1d (Global (None, 128)               0         \n",
            "_________________________________________________________________\n",
            "batch_normalization (BatchNo (None, 128)               512       \n",
            "_________________________________________________________________\n",
            "dense (Dense)                (None, 50)                6450      \n",
            "_________________________________________________________________\n",
            "dropout (Dropout)            (None, 50)                0         \n",
            "_________________________________________________________________\n",
            "dense_1 (Dense)              (None, 6)                 306       \n",
            "=================================================================\n",
            "Total params: 63,233,836\n",
            "Trainable params: 63,233,580\n",
            "Non-trainable params: 256\n",
            "_________________________________________________________________\n"
          ],
          "name": "stdout"
        }
      ]
    },
    {
      "cell_type": "markdown",
      "metadata": {
        "id": "GBum-dd_XB5I"
      },
      "source": [
        "### Compile the model\n",
        "We'll be using binary crossentropy as our loss function and clipping our gradients to avoid any explosions."
      ]
    },
    {
      "cell_type": "code",
      "metadata": {
        "collapsed": true,
        "id": "_sJdJgIqXB5J"
      },
      "source": [
        "def loss(y_true, y_pred):\n",
        "     return keras.backend.binary_crossentropy(y_true, y_pred)\n",
        "\n",
        "lr = .0001\n",
        "model.compile(loss=loss, optimizer=Nadam(lr=lr, clipnorm=1.0),\n",
        "              metrics=['binary_accuracy'])"
      ],
      "execution_count": null,
      "outputs": []
    },
    {
      "cell_type": "markdown",
      "metadata": {
        "id": "YMcd1dIVXB5J"
      },
      "source": [
        "### Evaluation Metric\n",
        "\n",
        "To evaluate our model, we'll be looking at its AUC ROC score (area under the receiver operating characteristic curve). We will be looking at the probability that our model ranks a randomly chosen positive instance higher than a randomly chosen negative one. With data that mostly consists of negative labels (no toxicity), our model could just learn to always predict negative and end up with a pretty high accuracy. AUC ROC helps correct this by putting more weight on the the positive examples."
      ]
    },
    {
      "cell_type": "code",
      "metadata": {
        "colab": {
          "base_uri": "https://localhost:8080/"
        },
        "id": "u6LZTSyRXB5J",
        "outputId": "bf3dbfee-3f3f-4e68-f7d2-3a6869c5c26a"
      },
      "source": [
        "from sklearn.model_selection import train_test_split\n",
        "from sklearn.metrics import roc_auc_score\n",
        "from keras.callbacks import Callback\n",
        "\n",
        "class RocAucEvaluation(Callback):\n",
        "    def __init__(self, filepath, validation_data=(), interval=1, max_epoch = 100):\n",
        "        super(Callback, self).__init__()\n",
        "        # Initialize state variables\n",
        "        print(\"After init\")\n",
        "        self.interval = interval\n",
        "        self.filepath = filepath\n",
        "        self.stopped_epoch = max_epoch\n",
        "        self.best = 0\n",
        "        self.X_val, self.y_val = validation_data\n",
        "        self.y_pred = np.zeros(self.y_val.shape)\n",
        "\n",
        "    def on_epoch_end(self, epoch, logs={}):\n",
        "        print(\"Epoch end 1\")\n",
        "        if epoch % self.interval == 0:\n",
        "            y_pred = self.model.predict_proba(self.X_val, verbose=0)\n",
        "            current = roc_auc_score(self.y_val, y_pred)\n",
        "            logs['roc_auc_val'] = current\n",
        "\n",
        "            if current > self.best: #save model\n",
        "                print(\" - AUC - improved from {:.5f} to {:.5f}\".format(self.best, current))\n",
        "                self.best = current\n",
        "                self.y_pred = y_pred\n",
        "                self.stopped_epoch = epoch+1\n",
        "                self.model.save(self.filepath, overwrite=True)\n",
        "            else:\n",
        "                print(\" - AUC - did not improve\")\n",
        "            \n",
        "[X, X_val, y, y_val] = train_test_split(processed_X_train, y_train, test_size=0.03, shuffle=False)\n",
        "RocAuc = RocAucEvaluation(filepath='model.best.hdf5',validation_data=(X_val, y_val), interval=1)"
      ],
      "execution_count": null,
      "outputs": [
        {
          "output_type": "stream",
          "text": [
            "After init\n"
          ],
          "name": "stdout"
        }
      ]
    },
    {
      "cell_type": "markdown",
      "metadata": {
        "id": "vuhozVV_XB5K"
      },
      "source": [
        "### Train the model\n",
        "Using a batch size of 64 and set the number of epochs as 3"
      ]
    },
    {
      "cell_type": "code",
      "metadata": {
        "colab": {
          "base_uri": "https://localhost:8080/"
        },
        "id": "9Zg_1RqBXB5K",
        "outputId": "e3f4b39e-a899-4587-dc38-9226cf27f5e6"
      },
      "source": [
        "from keras.callbacks import EarlyStopping, ModelCheckpoint\n",
        "\n",
        "model.compile(loss='binary_crossentropy', optimizer='Adam')\n",
        "\n",
        "# Set variables\n",
        "batch_size = 64\n",
        "epochs = 3\n",
        "\n",
        "# Set early stopping\n",
        "early_stop = EarlyStopping(monitor=\"roc_auc_val\", mode=\"max\", patience=2)\n",
        "                                                    \n",
        "# Train\n",
        "graph = model.fit(X, y, batch_size=batch_size, epochs=epochs,\n",
        "                  validation_data=(X_val, y_val), callbacks=[RocAuc, early_stop],\n",
        "                  verbose=1, shuffle=False)"
      ],
      "execution_count": null,
      "outputs": [
        {
          "output_type": "stream",
          "text": [
            "Epoch 1/3\n",
            "2419/2419 [==============================] - 3274s 1s/step - loss: 0.0986 - val_loss: 0.0452\n",
            "Epoch end 1\n"
          ],
          "name": "stdout"
        },
        {
          "output_type": "stream",
          "text": [
            "/usr/local/lib/python3.6/dist-packages/tensorflow/python/keras/engine/sequential.py:425: UserWarning: `model.predict_proba()` is deprecated and will be removed after 2021-01-01. Please use `model.predict()` instead.\n",
            "  warnings.warn('`model.predict_proba()` is deprecated and '\n"
          ],
          "name": "stderr"
        },
        {
          "output_type": "stream",
          "text": [
            " - AUC - improved from 0.00000 to 0.98237\n",
            "Epoch 2/3\n",
            "2419/2419 [==============================] - 3219s 1s/step - loss: 0.0424 - val_loss: 0.0456\n",
            "Epoch end 1\n"
          ],
          "name": "stdout"
        },
        {
          "output_type": "stream",
          "text": [
            "/usr/local/lib/python3.6/dist-packages/tensorflow/python/keras/engine/sequential.py:425: UserWarning: `model.predict_proba()` is deprecated and will be removed after 2021-01-01. Please use `model.predict()` instead.\n",
            "  warnings.warn('`model.predict_proba()` is deprecated and '\n"
          ],
          "name": "stderr"
        },
        {
          "output_type": "stream",
          "text": [
            " - AUC - improved from 0.98237 to 0.98583\n",
            "Epoch 3/3\n",
            "2419/2419 [==============================] - 3440s 1s/step - loss: 0.0334 - val_loss: 0.0490\n",
            "Epoch end 1\n"
          ],
          "name": "stdout"
        },
        {
          "output_type": "stream",
          "text": [
            "/usr/local/lib/python3.6/dist-packages/tensorflow/python/keras/engine/sequential.py:425: UserWarning: `model.predict_proba()` is deprecated and will be removed after 2021-01-01. Please use `model.predict()` instead.\n",
            "  warnings.warn('`model.predict_proba()` is deprecated and '\n"
          ],
          "name": "stderr"
        },
        {
          "output_type": "stream",
          "text": [
            " - AUC - did not improve\n"
          ],
          "name": "stdout"
        }
      ]
    },
    {
      "cell_type": "code",
      "metadata": {
        "id": "0LYuO-NGsSZZ",
        "colab": {
          "base_uri": "https://localhost:8080/"
        },
        "outputId": "6360b73c-1899-4273-fc7e-eb77ed4a3757"
      },
      "source": [
        "graph.history['val_loss']"
      ],
      "execution_count": null,
      "outputs": [
        {
          "output_type": "execute_result",
          "data": {
            "text/plain": [
              "[0.04516037926077843, 0.04563920199871063, 0.04904833436012268]"
            ]
          },
          "metadata": {
            "tags": []
          },
          "execution_count": 19
        }
      ]
    },
    {
      "cell_type": "code",
      "metadata": {
        "id": "wXIE8ES6XB5M",
        "colab": {
          "base_uri": "https://localhost:8080/",
          "height": 295
        },
        "outputId": "5a26f927-b66f-4086-89ab-455042d40492"
      },
      "source": [
        "import matplotlib.pyplot as plt\n",
        "%matplotlib inline\n",
        "\n",
        "# Visualize history of loss\n",
        "plt.plot(graph.history['loss'])\n",
        "plt.plot(graph.history['val_loss'])\n",
        "plt.title('model loss')\n",
        "plt.ylabel('loss')\n",
        "plt.xlabel('epoch')\n",
        "plt.legend(['train', 'test'], loc='upper left')\n",
        "plt.show()"
      ],
      "execution_count": null,
      "outputs": [
        {
          "output_type": "display_data",
          "data": {
            "image/png": "[encoded data removed]",
            "text/plain": [
              "<Figure size 432x288 with 1 Axes>"
            ]
          },
          "metadata": {
            "tags": [],
            "needs_background": "light"
          }
        }
      ]
    },
    {
      "cell_type": "markdown",
      "metadata": {
        "id": "rzrxVMmnXB5N"
      },
      "source": [
        "### Load best weights and predict"
      ]
    },
    {
      "cell_type": "code",
      "metadata": {
        "collapsed": true,
        "id": "gPV1dh60XB5N"
      },
      "source": [
        "predictions = model.predict(processed_X_test, verbose=0)"
      ],
      "execution_count": null,
      "outputs": []
    },
    {
      "cell_type": "code",
      "metadata": {
        "id": "XyNPEP6bXB5P",
        "colab": {
          "base_uri": "https://localhost:8080/"
        },
        "outputId": "24e51405-3633-4781-cbfe-20f30dbb9fa5"
      },
      "source": [
        "def toxicity_level(string):\n",
        "    \"\"\"\n",
        "    Return toxicity probability based on inputed string.\n",
        "    \"\"\"\n",
        "    # Process string\n",
        "    new_string = [string]\n",
        "    new_string = tokenizer.texts_to_sequences(new_string)\n",
        "    new_string = pad_sequences(new_string, maxlen=max_len, padding='post', truncating='post')\n",
        "    \n",
        "    # Predict\n",
        "    prediction = model.predict(new_string)\n",
        "    \n",
        "    # Print output\n",
        "    print(\"Toxicity levels for '{}':\".format(string))\n",
        "    print('Toxic:         {:.0%}'.format(prediction[0][0]))\n",
        "    print('Severe Toxic:  {:.0%}'.format(prediction[0][1]))\n",
        "    print('Obscene:       {:.0%}'.format(prediction[0][2]))\n",
        "    print('Threat:        {:.0%}'.format(prediction[0][3]))\n",
        "    print('Insult:        {:.0%}'.format(prediction[0][4]))\n",
        "    print('Identity Hate: {:.0%}'.format(prediction[0][5]))\n",
        "    print()\n",
        "    \n",
        "    return\n",
        "\n",
        "toxicity_level('go jump off a bridge jerk')\n",
        "toxicity_level('i will kill you')\n",
        "toxicity_level('have a nice day')\n",
        "toxicity_level('hola, como estas')\n",
        "toxicity_level('hola mierda joder')\n",
        "toxicity_level('fuck off!!')"
      ],
      "execution_count": null,
      "outputs": [
        {
          "output_type": "stream",
          "text": [
            "Toxicity levels for 'go jump off a bridge jerk':\n",
            "Toxic:         99%\n",
            "Severe Toxic:  3%\n",
            "Obscene:       83%\n",
            "Threat:        0%\n",
            "Insult:        80%\n",
            "Identity Hate: 0%\n",
            "\n",
            "Toxicity levels for 'i will kill you':\n",
            "Toxic:         80%\n",
            "Severe Toxic:  0%\n",
            "Obscene:       0%\n",
            "Threat:        82%\n",
            "Insult:        1%\n",
            "Identity Hate: 0%\n",
            "\n",
            "Toxicity levels for 'have a nice day':\n",
            "Toxic:         0%\n",
            "Severe Toxic:  0%\n",
            "Obscene:       0%\n",
            "Threat:        0%\n",
            "Insult:        0%\n",
            "Identity Hate: 0%\n",
            "\n",
            "Toxicity levels for 'hola, como estas':\n",
            "Toxic:         0%\n",
            "Severe Toxic:  0%\n",
            "Obscene:       0%\n",
            "Threat:        0%\n",
            "Insult:        0%\n",
            "Identity Hate: 0%\n",
            "\n",
            "Toxicity levels for 'hola mierda joder':\n",
            "Toxic:         0%\n",
            "Severe Toxic:  0%\n",
            "Obscene:       0%\n",
            "Threat:        0%\n",
            "Insult:        0%\n",
            "Identity Hate: 0%\n",
            "\n",
            "Toxicity levels for 'fuck off!!':\n",
            "Toxic:         100%\n",
            "Severe Toxic:  19%\n",
            "Obscene:       99%\n",
            "Threat:        0%\n",
            "Insult:        46%\n",
            "Identity Hate: 0%\n",
            "\n"
          ],
          "name": "stdout"
        }
      ]
    },
    {
      "cell_type": "code",
      "metadata": {
        "id": "RoKRhf89XB5S",
        "colab": {
          "base_uri": "https://localhost:8080/"
        },
        "outputId": "4e29cbc6-2e3b-4fe1-9959-dddc1f1a61f8"
      },
      "source": [
        "toxicity_level('Hello, How are you?')"
      ],
      "execution_count": null,
      "outputs": [
        {
          "output_type": "stream",
          "text": [
            "Toxicity levels for 'Hello, How are you?':\n",
            "Toxic:         0%\n",
            "Severe Toxic:  0%\n",
            "Obscene:       0%\n",
            "Threat:        0%\n",
            "Insult:        0%\n",
            "Identity Hate: 0%\n",
            "\n"
          ],
          "name": "stdout"
        }
      ]
    },
    {
      "cell_type": "code",
      "metadata": {
        "id": "KCx5cD4UtUJp"
      },
      "source": [
        ""
      ],
      "execution_count": null,
      "outputs": []
    },
    {
      "cell_type": "code",
      "metadata": {
        "collapsed": true,
        "id": "oDX4c0QSXB5Y"
      },
      "source": [
        ""
      ],
      "execution_count": null,
      "outputs": []
    }
  ]
}