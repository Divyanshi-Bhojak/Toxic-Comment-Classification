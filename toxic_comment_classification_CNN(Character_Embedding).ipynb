{
  "nbformat": 4,
  "nbformat_minor": 0,
  "metadata": {
    "kernelspec": {
      "display_name": "Python 3",
      "language": "python",
      "name": "python3"
    },
    "language_info": {
      "codemirror_mode": {
        "name": "ipython",
        "version": 3
      },
      "file_extension": ".py",
      "mimetype": "text/x-python",
      "name": "python",
      "nbconvert_exporter": "python",
      "pygments_lexer": "ipython3",
      "version": "3.6.3"
    },
    "colab": {
      "name": "toxic_comment_classification_CNN(Character Embedding).ipynb",
      "provenance": [],
      "collapsed_sections": []
    },
    "accelerator": "TPU"
  },
  "cells": [
    {
      "cell_type": "markdown",
      "metadata": {
        "id": "kmlFZAdK5WQq"
      },
      "source": [
        "# Approach\n",
        "\n",
        "The idea is to use the train dataset to train the models with the words in the comments as predictor variables and to predict the probability of toxicity level of a comment. A pre- trained model that gives the best accuracy to various user comments to combat the ongoing issue of online forum abuse. Our project is focused on developing a series of neural network models. The goal is to find the strengths and weakness of different Deep Learning models on the text classification task. We developed the Neural Network models here ie  Convolution Neural Network (CNN with character-level embedding)."
      ]
    },
    {
      "cell_type": "markdown",
      "metadata": {
        "id": "uIHk0DYryqOZ"
      },
      "source": [
        "# Toxic Comment Classification\n",
        "\n",
        "In this notebook, we'll be developing a Neural Network models that can classify string comments based on their toxicity:\n",
        "* `toxic`\n",
        "* `severe_toxic`\n",
        "* `obscene`\n",
        "* `threat`\n",
        "* `insult`\n",
        "* `identity_hate`\n",
        "\n"
      ]
    },
    {
      "cell_type": "code",
      "metadata": {
        "colab": {
          "base_uri": "https://localhost:8080/"
        },
        "id": "55YkOhfK4L5R",
        "outputId": "534dbb97-0107-4506-e5c7-9f503a90f641"
      },
      "source": [
        "from google.colab import drive\n",
        "drive.mount('/content/drive')"
      ],
      "execution_count": null,
      "outputs": [
        {
          "output_type": "stream",
          "text": [
            "Mounted at /content/drive\n"
          ],
          "name": "stdout"
        }
      ]
    },
    {
      "cell_type": "code",
      "metadata": {
        "id": "XgDRX5Q1yqOe"
      },
      "source": [
        "import sys, os, re, csv, codecs, numpy as np, pandas as pd\n",
        "import matplotlib.pyplot as plt\n",
        "from IPython.core.display import display, HTML\n",
        "from keras.preprocessing.text import Tokenizer\n",
        "from keras.preprocessing.sequence import pad_sequences\n",
        "from keras.layers import Dense, Input, LSTM, Embedding, Dropout, Activation\n",
        "from keras.layers import Bidirectional, GlobalMaxPool1D\n",
        "from keras.models import Model\n",
        "from keras import initializers, regularizers, constraints, optimizers, layers"
      ],
      "execution_count": null,
      "outputs": []
    },
    {
      "cell_type": "code",
      "metadata": {
        "colab": {
          "base_uri": "https://localhost:8080/"
        },
        "id": "4DxRFRP4zBO7",
        "outputId": "1203768c-4f07-4698-e9c8-425956eb7ae4"
      },
      "source": [
        "!pip install pyspark"
      ],
      "execution_count": null,
      "outputs": [
        {
          "output_type": "stream",
          "text": [
            "Collecting pyspark\n",
            "\u001b[?25l  Downloading https://files.pythonhosted.org/packages/f0/26/198fc8c0b98580f617cb03cb298c6056587b8f0447e20fa40c5b634ced77/pyspark-3.0.1.tar.gz (204.2MB)\n",
            "\u001b[K     |████████████████████████████████| 204.2MB 75kB/s \n",
            "\u001b[?25hCollecting py4j==0.10.9\n",
            "\u001b[?25l  Downloading https://files.pythonhosted.org/packages/9e/b6/6a4fb90cd235dc8e265a6a2067f2a2c99f0d91787f06aca4bcf7c23f3f80/py4j-0.10.9-py2.py3-none-any.whl (198kB)\n",
            "\u001b[K     |████████████████████████████████| 204kB 55.9MB/s \n",
            "\u001b[?25hBuilding wheels for collected packages: pyspark\n",
            "  Building wheel for pyspark (setup.py) ... \u001b[?25l\u001b[?25hdone\n",
            "  Created wheel for pyspark: filename=pyspark-3.0.1-py2.py3-none-any.whl size=204612242 sha256=dded37d59e628c26688c18e2f859d15bc13a73aab4e35862652f866055a934f7\n",
            "  Stored in directory: /root/.cache/pip/wheels/5e/bd/07/031766ca628adec8435bb40f0bd83bb676ce65ff4007f8e73f\n",
            "Successfully built pyspark\n",
            "Installing collected packages: py4j, pyspark\n",
            "Successfully installed py4j-0.10.9 pyspark-3.0.1\n"
          ],
          "name": "stdout"
        }
      ]
    },
    {
      "cell_type": "code",
      "metadata": {
        "collapsed": true,
        "id": "HT8KDlAlyqOh"
      },
      "source": [
        "#function for ploting history of the model training\n",
        "from pyspark.sql import Row\n",
        "def plot_history(history_arg):\n",
        "  array = []\n",
        "  i =1\n",
        "  j =1\n",
        "  for acc in history_arg.history['acc']:\n",
        "    array.append(Row(epoch=i, accuracy=float(acc)))\n",
        "    i = i+1\n",
        "  acc_df = sqlContext.createDataFrame((array))\n",
        "\n",
        "  array = []\n",
        "  for loss in history_arg.history['loss']:\n",
        "      array.append(Row(epoch = j, loss = float(loss)))\n",
        "      j = j+1\n",
        "  loss_df = sqlContext.createDataFrame(array)\n",
        "\n",
        "  display_df = acc_df.join(loss_df,on=(\"epoch\")).orderBy(\"epoch\")\n",
        "  return display_df"
      ],
      "execution_count": null,
      "outputs": []
    },
    {
      "cell_type": "markdown",
      "metadata": {
        "id": "qr5WbvMEyqOj"
      },
      "source": [
        "# Explore Data\n",
        "Extract the features and labels and take a look at sample data."
      ]
    },
    {
      "cell_type": "code",
      "metadata": {
        "collapsed": true,
        "id": "A1UJmicCyqOl"
      },
      "source": [
        "from pyspark.sql.types import *\n",
        "\n",
        "#Class labels\n",
        "list_classes = [\"toxic\", \"severe_toxic\", \"obscene\", \"threat\", \"insult\", \"identity_hate\"]\n",
        "\n",
        "#Read the data\n",
        "toxicWordsTrain = pd.read_csv(\"/content/drive/MyDrive/monolingualTCC/train.csv\");\n",
        "toxicWordsTest = pd.read_csv(\"/content/drive/MyDrive/monolingualTCC/test.csv\")\n",
        "\n",
        "y_train = toxicWordsTrain[list_classes].values\n",
        "x_train = toxicWordsTrain[\"comment_text\"]\n",
        "x_test  = toxicWordsTest[\"comment_text\"]\n",
        "\n",
        "submission = pd.read_csv('/content/drive/MyDrive/monolingualTCC/sample_submission.csv')"
      ],
      "execution_count": null,
      "outputs": []
    },
    {
      "cell_type": "markdown",
      "metadata": {
        "id": "B2bIIqf6yqOn"
      },
      "source": [
        "#### Train Data\n",
        "On analyzing the train data set, it was noted that the toxic levels in the comments are classified as shown below:"
      ]
    },
    {
      "cell_type": "code",
      "metadata": {
        "colab": {
          "base_uri": "https://localhost:8080/",
          "height": 475
        },
        "id": "ZmAT1JKsyqOo",
        "outputId": "9a59ac1b-47e9-4e57-85a2-1bb0e2e9f2a9"
      },
      "source": [
        "import seaborn as sns\n",
        "colors_list = [\"brownish green\", \"pine green\", \"ugly purple\",\n",
        "               \"blood\", \"deep blue\", \"brown\", \"azure\"]\n",
        "\n",
        "palette= sns.xkcd_palette(colors_list)\n",
        "\n",
        "x=toxicWordsTrain.iloc[:,2:].sum()\n",
        "#print(x.index)\n",
        "plt.figure(figsize=(9,6))\n",
        "ax= sns.barplot(x.index, x.values,palette=palette)\n",
        "plt.title(\"Class\")\n",
        "plt.ylabel('Occurrences', fontsize=12)\n",
        "plt.xlabel('Type ')\n",
        "rects = ax.patches\n",
        "labels = x.values\n",
        "for rect, label in zip(rects, labels):\n",
        "    height = rect.get_height()\n",
        "    ax.text(rect.get_x() + rect.get_width()/2, height + 10, label, \n",
        "            ha='center', va='bottom')\n",
        "\n",
        "display(plt.show())"
      ],
      "execution_count": null,
      "outputs": [
        {
          "output_type": "stream",
          "text": [
            "/usr/local/lib/python3.6/dist-packages/seaborn/_decorators.py:43: FutureWarning: Pass the following variables as keyword args: x, y. From version 0.12, the only valid positional argument will be `data`, and passing other arguments without an explicit keyword will result in an error or misinterpretation.\n",
            "  FutureWarning\n"
          ],
          "name": "stderr"
        },
        {
          "output_type": "display_data",
          "data": {
            "image/png": "[encoded data removed]",
            "text/plain": [
              "<Figure size 648x432 with 1 Axes>"
            ]
          },
          "metadata": {
            "tags": [],
            "needs_background": "light"
          }
        },
        {
          "output_type": "display_data",
          "data": {
            "text/plain": [
              "None"
            ]
          },
          "metadata": {
            "tags": []
          }
        }
      ]
    },
    {
      "cell_type": "code",
      "metadata": {
        "colab": {
          "base_uri": "https://localhost:8080/"
        },
        "id": "DAeTDMLKyqOv",
        "outputId": "5c360e73-d5d0-4384-95fc-f69a20ca07f3"
      },
      "source": [
        "# Sample from dataset\n",
        "for sample_i in range(3):\n",
        "    print('Comment #{}:  {}'.format(sample_i + 1, x_train[sample_i]))\n",
        "    print('Label #{}:    {}'.format(sample_i + 1, y_train[sample_i]))"
      ],
      "execution_count": null,
      "outputs": [
        {
          "output_type": "stream",
          "text": [
            "Comment #1:  Explanation\n",
            "Why the edits made under my username Hardcore Metallica Fan were reverted? They weren't vandalisms, just closure on some GAs after I voted at New York Dolls FAC. And please don't remove the template from the talk page since I'm retired now.89.205.38.27\n",
            "Label #1:    [0 0 0 0 0 0]\n",
            "Comment #2:  D'aww! He matches this background colour I'm seemingly stuck with. Thanks.  (talk) 21:51, January 11, 2016 (UTC)\n",
            "Label #2:    [0 0 0 0 0 0]\n",
            "Comment #3:  Hey man, I'm really not trying to edit war. It's just that this guy is constantly removing relevant information and talking to me through edits instead of my talk page. He seems to care more about the formatting than the actual info.\n",
            "Label #3:    [0 0 0 0 0 0]\n"
          ],
          "name": "stdout"
        }
      ]
    },
    {
      "cell_type": "code",
      "metadata": {
        "colab": {
          "base_uri": "https://localhost:8080/"
        },
        "id": "CPYyP8okyqOy",
        "outputId": "ab8eba54-f977-457f-a8f0-696af71ec012"
      },
      "source": [
        "# Explore vocabulary\n",
        "import collections\n",
        "from tqdm import tqdm\n",
        "\n",
        "# Create a counter object for each dataset\n",
        "word_counter = collections.Counter([word for sentence in tqdm(x_train, total=len(x_train)) \\\n",
        "                                                              for word in sentence.split()])\n",
        "\n",
        "print('{} words.'.format(len([word for sentence in x_train for word in sentence.split()])))\n",
        "print('{} unique words.'.format(len(word_counter)))\n",
        "print('10 Most common words in the dataset:')\n",
        "print('\"' + '\" \"'.join(list(zip(*word_counter.most_common(10)))[0]) + '\"')"
      ],
      "execution_count": null,
      "outputs": [
        {
          "output_type": "stream",
          "text": [
            "100%|██████████| 159571/159571 [00:01<00:00, 117268.88it/s]\n"
          ],
          "name": "stderr"
        },
        {
          "output_type": "stream",
          "text": [
            "10734904 words.\n",
            "532299 unique words.\n",
            "10 Most common words in the dataset:\n",
            "\"the\" \"to\" \"of\" \"and\" \"a\" \"I\" \"is\" \"you\" \"that\" \"in\"\n"
          ],
          "name": "stdout"
        }
      ]
    },
    {
      "cell_type": "markdown",
      "metadata": {
        "id": "5MLNXdthyqO1"
      },
      "source": [
        "The dataset contains 10,734,904 words, 532,299 of which are unique, and the 10 most common being: \"the\", \"to\", \"of\", \"and\", \"a\", \"I\", \"is\", \"you\", \"that\", and \"in\". One problem here is that we are counting uppercase words as different from lower case words and a bunch of other symbols that aren't really useful for our goal. A data cleanup will be done in the next step."
      ]
    },
    {
      "cell_type": "markdown",
      "metadata": {
        "id": "qY9EQ3X2yqO4"
      },
      "source": [
        "# Preprocessing the data\n",
        "We preprocess our data a bit so that it's in a format we can input into a neural network. The process includes:\n",
        "\n",
        "    1. Remove irrelevant characters (!\"#$%&()*+,-./:;<=>?@[\\\\]^_`{|}~\\t\\n).\n",
        "    2. Convert all letters to lowercase (HeLlO -> hello).\n",
        "    3. As this is character level embedding, Consider every character as a seperate token. \n",
        "    4. Tokenize our words (hi how are you -> [23, 1, 5, 13]).\n",
        "    5. Standaridize our input length with padding (hi how are you -> [23, 1, 5, 13, 0, 0, 0]).\n"
      ]
    },
    {
      "cell_type": "code",
      "metadata": {
        "colab": {
          "base_uri": "https://localhost:8080/"
        },
        "id": "aKaJR1-iyqO6",
        "outputId": "edb3bca5-ee54-4218-c80d-3bfc67c923bc"
      },
      "source": [
        "# Tokenize and Pad\n",
        "from keras.preprocessing.text import Tokenizer\n",
        "from keras.preprocessing.sequence import pad_sequences\n",
        "\n",
        "# Create tokenizer\n",
        "tokenizer = Tokenizer(num_words=None,\n",
        "                      filters='!\"#$%&()*+,-./:;<=>?@[\\\\]^_`{|}~\\t\\n',\n",
        "                      lower=True,\n",
        "                      split=\" \",\n",
        "                      char_level=True)\n",
        "\n",
        "# Fit and run tokenizer\n",
        "tokenizer.fit_on_texts(list(x_train))\n",
        "tokenized_train = tokenizer.texts_to_sequences(x_train)\n",
        "tokenized_test = tokenizer.texts_to_sequences(x_test)\n",
        "word_index = tokenizer.word_index\n",
        "\n",
        "# Extract variables\n",
        "vocab_size = len(word_index)\n",
        "print('Vocab size: {}'.format(vocab_size))\n",
        "longest = max(len(seq) for seq in tokenized_train)\n",
        "print(\"Longest comment size: {}\".format(longest))\n",
        "average = np.mean([len(seq) for seq in tokenized_train])\n",
        "print(\"Average comment size: {}\".format(average))\n",
        "stdev = np.std([len(seq) for seq in tokenized_train])\n",
        "print(\"Stdev of comment size: {}\".format(stdev))\n",
        "max_len = int(average + stdev * 3)\n",
        "print('Max comment size: {}'.format(max_len))\n",
        "print()\n",
        "\n",
        "# Pad sequences\n",
        "processed_X_train = pad_sequences(tokenized_train, maxlen=max_len, padding='post', truncating='post')\n",
        "processed_X_test = pad_sequences(tokenized_test, maxlen=max_len, padding='post', truncating='post')\n",
        "\n",
        "# Sample tokenization\n",
        "for sample_i, (sent, token_sent) in enumerate(zip(x_train[:2], tokenized_train[:2])):\n",
        "    print('Sequence {}'.format(sample_i + 1))\n",
        "    print('  Input:  {}'.format(sent))\n",
        "    print('  Output: {}'.format(token_sent))"
      ],
      "execution_count": null,
      "outputs": [
        {
          "output_type": "stream",
          "text": [
            "Vocab size: 2114\n",
            "Longest comment size: 5000\n",
            "Average comment size: 394.07339052835414\n",
            "Stdev of comment size: 590.7192016818334\n",
            "Max comment size: 2166\n",
            "\n",
            "Sequence 1\n",
            "  Input:  Explanation\n",
            "Why the edits made under my username Hardcore Metallica Fan were reverted? They weren't vandalisms, just closure on some GAs after I voted at New York Dolls FAC. And please don't remove the template from the talk page since I'm retired now.89.205.38.27\n",
            "  Output: [2, 35, 16, 11, 4, 7, 4, 3, 5, 6, 7, 26, 20, 10, 17, 1, 3, 10, 2, 1, 2, 12, 5, 3, 8, 1, 15, 4, 12, 2, 1, 13, 7, 12, 2, 9, 1, 15, 17, 1, 13, 8, 2, 9, 7, 4, 15, 2, 1, 10, 4, 9, 12, 14, 6, 9, 2, 1, 15, 2, 3, 4, 11, 11, 5, 14, 4, 1, 19, 4, 7, 1, 20, 2, 9, 2, 1, 9, 2, 24, 2, 9, 3, 2, 12, 39, 1, 3, 10, 2, 17, 1, 20, 2, 9, 2, 7, 28, 3, 1, 24, 4, 7, 12, 4, 11, 5, 8, 15, 8, 25, 1, 29, 13, 8, 3, 1, 14, 11, 6, 8, 13, 9, 2, 1, 6, 7, 1, 8, 6, 15, 2, 1, 18, 4, 8, 1, 4, 19, 3, 2, 9, 1, 5, 1, 24, 6, 3, 2, 12, 1, 4, 3, 1, 7, 2, 20, 1, 17, 6, 9, 23, 1, 12, 6, 11, 11, 8, 1, 19, 4, 14, 22, 1, 4, 7, 12, 1, 16, 11, 2, 4, 8, 2, 1, 12, 6, 7, 28, 3, 1, 9, 2, 15, 6, 24, 2, 1, 3, 10, 2, 1, 3, 2, 15, 16, 11, 4, 3, 2, 1, 19, 9, 6, 15, 1, 3, 10, 2, 1, 3, 4, 11, 23, 1, 16, 4, 18, 2, 1, 8, 5, 7, 14, 2, 1, 5, 28, 15, 1, 9, 2, 3, 5, 9, 2, 12, 1, 7, 6, 20, 22, 48, 43, 22, 38, 33, 45, 22, 44, 48, 22, 38, 50]\n",
            "Sequence 2\n",
            "  Input:  D'aww! He matches this background colour I'm seemingly stuck with. Thanks.  (talk) 21:51, January 11, 2016 (UTC)\n",
            "  Output: [12, 28, 4, 20, 20, 30, 1, 10, 2, 1, 15, 4, 3, 14, 10, 2, 8, 1, 3, 10, 5, 8, 1, 21, 4, 14, 23, 18, 9, 6, 13, 7, 12, 1, 14, 6, 11, 6, 13, 9, 1, 5, 28, 15, 1, 8, 2, 2, 15, 5, 7, 18, 11, 17, 1, 8, 3, 13, 14, 23, 1, 20, 5, 3, 10, 22, 1, 3, 10, 4, 7, 23, 8, 22, 1, 1, 37, 3, 4, 11, 23, 36, 1, 38, 31, 34, 45, 31, 25, 1, 29, 4, 7, 13, 4, 9, 17, 1, 31, 31, 25, 1, 38, 33, 31, 49, 1, 37, 13, 3, 14, 36]\n"
          ],
          "name": "stdout"
        }
      ]
    },
    {
      "cell_type": "markdown",
      "metadata": {
        "id": "yBsQT1TayqPB"
      },
      "source": [
        "After preprocessing, our vocabulary size drops to a more manageable 210,337 with a max comment size of 371 words and an average comment size of about 68 words per sentence."
      ]
    },
    {
      "cell_type": "markdown",
      "metadata": {
        "id": "dgFExTRiyqPE"
      },
      "source": [
        "# Embedding\n",
        "The data representation for our vocabulary is one-hot encoding where every word is transformed into a vector with a 1 in its corresponding location. For example, if our word vector is [hi, how, are, you] and the word we are looking at is \"you\", the input vector for \"you\" would just be [0, 0, 0, 1]. This works fine unless our vocabulary is huge - in this case, 210,000 - which means we would end up with word vectors that consist mainly of a bunch of 0s.\n",
        "\n",
        "Instead, we can use a Word2Vec technique to find continuous embeddings for our words. Here, we'll be using the pretrained FastText embeddings from Facebook to produce a 300-dimension vector for each word in our vocabulary.\n",
        "\n",
        "  \n",
        "The benefit of this continuous embedding is that words with similar predictive power will appear closer together on our word vector. The downside is that this creates more of a black box where the words with the most predictive power get lost in the numbers."
      ]
    },
    {
      "cell_type": "code",
      "metadata": {
        "colab": {
          "base_uri": "https://localhost:8080/"
        },
        "id": "f8J2FSL2yqPF",
        "outputId": "4a54b0bd-cef0-4b80-b007-be10e2d72e1f"
      },
      "source": [
        "embedding_dim = 300\n",
        "\n",
        "# Get embeddings\n",
        "embeddings_index = {}\n",
        "f = open('/content/drive/MyDrive/monolingualTCC/wiki.en.vec', encoding=\"utf8\")\n",
        "for line in f:\n",
        "    values = line.rstrip().rsplit(' ', embedding_dim)\n",
        "    word = values[0]\n",
        "    coefs = np.asarray(values[1:], dtype='float32')\n",
        "    embeddings_index[word] = coefs\n",
        "f.close()\n",
        "\n",
        "print('Found {} word vectors.'.format(len(embeddings_index)))"
      ],
      "execution_count": null,
      "outputs": [
        {
          "output_type": "stream",
          "text": [
            "Found 2519371 word vectors.\n"
          ],
          "name": "stdout"
        }
      ]
    },
    {
      "cell_type": "code",
      "metadata": {
        "collapsed": true,
        "id": "B3-uKBSmyqPH"
      },
      "source": [
        "# Build embedding matrix\n",
        "embedding_matrix = np.zeros((len(word_index) + 1, embedding_dim))\n",
        "for word, i in word_index.items():\n",
        "    embedding_vector = embeddings_index.get(word)\n",
        "    if embedding_vector is not None:\n",
        "        # Words not found in embedding index will be all-zeros.\n",
        "        embedding_matrix[i] = embedding_vector"
      ],
      "execution_count": null,
      "outputs": []
    },
    {
      "cell_type": "markdown",
      "metadata": {
        "id": "76TrTq3iyqPI"
      },
      "source": [
        "The above is a lengthy process and hence saving the output to the disk."
      ]
    },
    {
      "cell_type": "code",
      "metadata": {
        "collapsed": true,
        "id": "8tcLsQSmyqPK"
      },
      "source": [
        "# Save embeddings\n",
        "import h5py\n",
        "with h5py.File('embeddings.h5', 'w') as hf:\n",
        "    hf.create_dataset(\"fasttext\",  data=embedding_matrix)"
      ],
      "execution_count": null,
      "outputs": []
    },
    {
      "cell_type": "code",
      "metadata": {
        "collapsed": true,
        "id": "gtblXwfByqPL"
      },
      "source": [
        "# Load embeddings\n",
        "with h5py.File('embeddings.h5', 'r') as hf:\n",
        "    embedding_matrix = hf['fasttext'][:]"
      ],
      "execution_count": null,
      "outputs": []
    },
    {
      "cell_type": "markdown",
      "metadata": {
        "id": "99XLxw7tyqPM"
      },
      "source": [
        "# Model\n",
        "Convolution Neural Network(CNN) with character embeddings:\n",
        "\n",
        "\n",
        ">A character level model will use the character as the smallest entity. This can help in dealing with common misspellings, different permutations of words and languages that rely on the context for word conjugations. The model reads characters one by one, including spaces, and creates a one-hot embedding of the comment. The CNN model we used consist of a 1-dimensional convolutional layer across the concatenated character embeddings for each character in the input comment.\n",
        "\n",
        "\n",
        "Now that the data is preprocessed and our embeddings are ready, we can build a model. We will build a neural network architecture that is comprises of the following:\n",
        "\n",
        "    Embedding layer - word vector representations.\n",
        "    Convolutional layer - run multiple filters over that temporal data.\n",
        "    Fully connected layer - classify input based on filters."
      ]
    },
    {
      "cell_type": "code",
      "metadata": {
        "colab": {
          "base_uri": "https://localhost:8080/"
        },
        "id": "XZiI0yD8dtY1",
        "outputId": "690b4ef5-722b-4a11-ef4e-19faa19e5ef1"
      },
      "source": [
        "!pip install keras"
      ],
      "execution_count": null,
      "outputs": [
        {
          "output_type": "stream",
          "text": [
            "Requirement already satisfied: keras in /usr/local/lib/python3.6/dist-packages (2.4.3)\n",
            "Requirement already satisfied: numpy>=1.9.1 in /usr/local/lib/python3.6/dist-packages (from keras) (1.19.4)\n",
            "Requirement already satisfied: pyyaml in /usr/local/lib/python3.6/dist-packages (from keras) (3.13)\n",
            "Requirement already satisfied: h5py in /usr/local/lib/python3.6/dist-packages (from keras) (2.10.0)\n",
            "Requirement already satisfied: scipy>=0.14 in /usr/local/lib/python3.6/dist-packages (from keras) (1.4.1)\n",
            "Requirement already satisfied: six in /usr/local/lib/python3.6/dist-packages (from h5py->keras) (1.15.0)\n"
          ],
          "name": "stdout"
        }
      ]
    },
    {
      "cell_type": "code",
      "metadata": {
        "id": "5G2_ZtM4yqPN",
        "colab": {
          "base_uri": "https://localhost:8080/"
        },
        "outputId": "4ebf56a3-4da9-4c30-c9e3-9c47a7bd983d"
      },
      "source": [
        "import keras.backend\n",
        "from keras.models import Sequential\n",
        "from keras.layers import Dense, Conv1D, MaxPooling1D #CuDNNGRU, \n",
        "from keras.layers import Dropout, GlobalMaxPooling1D, BatchNormalization\n",
        "from keras.layers import Bidirectional\n",
        "from keras.layers.embeddings import Embedding\n",
        "from keras.optimizers import Nadam\n",
        "\n",
        "# Initate model\n",
        "model = Sequential()\n",
        "\n",
        "# Add Embedding layer\n",
        "model.add(Embedding(vocab_size + 1, embedding_dim, weights=[embedding_matrix], input_length=max_len, trainable=True))\n",
        "\n",
        "\n",
        "# Add Convolutional layer\n",
        "model.add(Conv1D(filters=128, kernel_size=5, padding='same', activation='relu'))\n",
        "model.add(MaxPooling1D(3))\n",
        "model.add(GlobalMaxPooling1D())\n",
        "model.add(BatchNormalization())\n",
        "\n",
        "# Add fully connected layers\n",
        "model.add(Dense(50, activation='relu'))\n",
        "model.add(Dropout(0.3))\n",
        "model.add(Dense(6, activation='sigmoid'))\n",
        "\n",
        "# Summarize the model\n",
        "model.summary()\n"
      ],
      "execution_count": null,
      "outputs": [
        {
          "output_type": "stream",
          "text": [
            "Model: \"sequential\"\n",
            "_________________________________________________________________\n",
            "Layer (type)                 Output Shape              Param #   \n",
            "=================================================================\n",
            "embedding (Embedding)        (None, 2166, 300)         634500    \n",
            "_________________________________________________________________\n",
            "conv1d (Conv1D)              (None, 2166, 128)         192128    \n",
            "_________________________________________________________________\n",
            "max_pooling1d (MaxPooling1D) (None, 722, 128)          0         \n",
            "_________________________________________________________________\n",
            "global_max_pooling1d (Global (None, 128)               0         \n",
            "_________________________________________________________________\n",
            "batch_normalization (BatchNo (None, 128)               512       \n",
            "_________________________________________________________________\n",
            "dense (Dense)                (None, 50)                6450      \n",
            "_________________________________________________________________\n",
            "dropout (Dropout)            (None, 50)                0         \n",
            "_________________________________________________________________\n",
            "dense_1 (Dense)              (None, 6)                 306       \n",
            "=================================================================\n",
            "Total params: 833,896\n",
            "Trainable params: 833,640\n",
            "Non-trainable params: 256\n",
            "_________________________________________________________________\n"
          ],
          "name": "stdout"
        }
      ]
    },
    {
      "cell_type": "markdown",
      "metadata": {
        "id": "VhgNdnsHyqPO"
      },
      "source": [
        "# Compile the model\n",
        "We'll be using binary crossentropy as our loss function and clipping our gradients to avoid any explosions."
      ]
    },
    {
      "cell_type": "code",
      "metadata": {
        "collapsed": true,
        "id": "gFNpqcypyqPQ"
      },
      "source": [
        "def loss(y_true, y_pred):\n",
        "     return keras.backend.binary_crossentropy(y_true, y_pred)\n",
        "\n",
        "lr = .0001\n",
        "model.compile(loss=loss, optimizer=Nadam(lr=lr, clipnorm=1.0),\n",
        "              metrics=['binary_accuracy'])"
      ],
      "execution_count": null,
      "outputs": []
    },
    {
      "cell_type": "markdown",
      "metadata": {
        "id": "PGUM7v2iyqPR"
      },
      "source": [
        "# Evaluation Metric\n",
        "To evaluate our model, we'll be looking at its AUC ROC score (area under the receiver operating characteristic curve). We will be looking at the probability that our model ranks a randomly chosen positive instance higher than a randomly chosen negative one. With data that mostly consists of negative labels (no toxicity), our model could just learn to always predict negative and end up with a pretty high accuracy. AUC ROC helps correct this by putting more weight on the the positive examples."
      ]
    },
    {
      "cell_type": "code",
      "metadata": {
        "id": "FND2uasryqPS",
        "colab": {
          "base_uri": "https://localhost:8080/"
        },
        "outputId": "4be2b9e2-69e6-4dcb-f82f-15c0b9274f59"
      },
      "source": [
        "from sklearn.model_selection import train_test_split\n",
        "from sklearn.metrics import roc_auc_score\n",
        "from keras.callbacks import Callback\n",
        "\n",
        "class RocAucEvaluation(Callback):\n",
        "    def __init__(self, filepath, validation_data=(), interval=1, max_epoch = 100):\n",
        "        super(Callback, self).__init__()\n",
        "        # Initialize state variables\n",
        "        print(\"After init\")\n",
        "        self.interval = interval\n",
        "        self.filepath = filepath\n",
        "        self.stopped_epoch = max_epoch\n",
        "        self.best = 0\n",
        "        self.X_val, self.y_val = validation_data\n",
        "        self.y_pred = np.zeros(self.y_val.shape)\n",
        "\n",
        "    def on_epoch_end(self, epoch, logs={}):\n",
        "        print(\"Epoch end 1\")\n",
        "        if epoch % self.interval == 0:\n",
        "            y_pred = self.model.predict_proba(self.X_val, verbose=0)\n",
        "            current = roc_auc_score(self.y_val, y_pred)\n",
        "            logs['roc_auc_val'] = current\n",
        "\n",
        "            if current > self.best: #save model\n",
        "                print(\" - AUC - improved from {:.5f} to {:.5f}\".format(self.best, current))\n",
        "                self.best = current\n",
        "                self.y_pred = y_pred\n",
        "                self.stopped_epoch = epoch+1\n",
        "                self.model.save(self.filepath, overwrite=True)\n",
        "            else:\n",
        "                print(\" - AUC - did not improve\")\n",
        "            \n",
        "[X, X_val, y, y_val] = train_test_split(processed_X_train, y_train, test_size=0.03, shuffle=False)\n",
        "RocAuc = RocAucEvaluation(filepath='model.best.hdf5',validation_data=(X_val, y_val), interval=1)"
      ],
      "execution_count": null,
      "outputs": [
        {
          "output_type": "stream",
          "text": [
            "After init\n"
          ],
          "name": "stdout"
        }
      ]
    },
    {
      "cell_type": "markdown",
      "metadata": {
        "id": "x-UD29z4yqPT"
      },
      "source": [
        "# Train the model\n",
        "Using a batch size of 64 and set the number of epochs as 3"
      ]
    },
    {
      "cell_type": "code",
      "metadata": {
        "id": "lznZ-gcpyqPU",
        "colab": {
          "base_uri": "https://localhost:8080/"
        },
        "outputId": "b703483e-d0dd-4ae5-f132-b7bf6b7a624b"
      },
      "source": [
        "from keras.callbacks import EarlyStopping, ModelCheckpoint\n",
        "\n",
        "model.compile(loss='binary_crossentropy', optimizer='Adam')\n",
        "\n",
        "# Set variables\n",
        "batch_size = 64\n",
        "epochs = 3\n",
        "\n",
        "# Set early stopping\n",
        "early_stop = EarlyStopping(monitor=\"roc_auc_val\", mode=\"max\", patience=2)\n",
        "                                                    \n",
        "# Train\n",
        "graph = model.fit(X, y, batch_size=batch_size, epochs=epochs,\n",
        "                  validation_data=(X_val, y_val), callbacks=[RocAuc, early_stop],\n",
        "                  verbose=1, shuffle=False)"
      ],
      "execution_count": null,
      "outputs": [
        {
          "output_type": "stream",
          "text": [
            "Epoch 1/3\n",
            "2419/2419 [==============================] - 7994s 3s/step - loss: 0.1367 - val_loss: 0.0580\n",
            "Epoch end 1\n"
          ],
          "name": "stdout"
        },
        {
          "output_type": "stream",
          "text": [
            "/usr/local/lib/python3.6/dist-packages/tensorflow/python/keras/engine/sequential.py:425: UserWarning: `model.predict_proba()` is deprecated and will be removed after 2021-01-01. Please use `model.predict()` instead.\n",
            "  warnings.warn('`model.predict_proba()` is deprecated and '\n"
          ],
          "name": "stderr"
        },
        {
          "output_type": "stream",
          "text": [
            " - AUC - improved from 0.00000 to 0.96279\n",
            "Epoch 2/3\n",
            "2419/2419 [==============================] - 8173s 3s/step - loss: 0.0583 - val_loss: 0.0554\n",
            "Epoch end 1\n"
          ],
          "name": "stdout"
        },
        {
          "output_type": "stream",
          "text": [
            "/usr/local/lib/python3.6/dist-packages/tensorflow/python/keras/engine/sequential.py:425: UserWarning: `model.predict_proba()` is deprecated and will be removed after 2021-01-01. Please use `model.predict()` instead.\n",
            "  warnings.warn('`model.predict_proba()` is deprecated and '\n"
          ],
          "name": "stderr"
        },
        {
          "output_type": "stream",
          "text": [
            " - AUC - improved from 0.96279 to 0.97394\n",
            "Epoch 3/3\n",
            "2419/2419 [==============================] - 7871s 3s/step - loss: 0.0535 - val_loss: 0.0512\n",
            "Epoch end 1\n"
          ],
          "name": "stdout"
        },
        {
          "output_type": "stream",
          "text": [
            "/usr/local/lib/python3.6/dist-packages/tensorflow/python/keras/engine/sequential.py:425: UserWarning: `model.predict_proba()` is deprecated and will be removed after 2021-01-01. Please use `model.predict()` instead.\n",
            "  warnings.warn('`model.predict_proba()` is deprecated and '\n"
          ],
          "name": "stderr"
        },
        {
          "output_type": "stream",
          "text": [
            " - AUC - improved from 0.97394 to 0.97991\n"
          ],
          "name": "stdout"
        }
      ]
    },
    {
      "cell_type": "code",
      "metadata": {
        "colab": {
          "base_uri": "https://localhost:8080/"
        },
        "id": "ycI4YHK9MGdC",
        "outputId": "a51ddbe7-da9e-4357-d4b1-e8d8ba6d89c5"
      },
      "source": [
        "graph.history['val_loss']"
      ],
      "execution_count": null,
      "outputs": [
        {
          "output_type": "execute_result",
          "data": {
            "text/plain": [
              "[0.05796697363257408, 0.05536167696118355, 0.05117345228791237]"
            ]
          },
          "metadata": {
            "tags": []
          },
          "execution_count": 18
        }
      ]
    },
    {
      "cell_type": "code",
      "metadata": {
        "id": "WAA9XnkGESaJ"
      },
      "source": [
        "import matplotlib.pyplot as plt\n",
        "%matplotlib inline"
      ],
      "execution_count": null,
      "outputs": []
    },
    {
      "cell_type": "code",
      "metadata": {
        "id": "wtjk07VkyqPW",
        "colab": {
          "base_uri": "https://localhost:8080/",
          "height": 295
        },
        "outputId": "18c7e2d9-e46b-42a7-cc16-7e7e35e24c96"
      },
      "source": [
        "# Visualize history of loss\n",
        "plt.plot(graph.history['loss'])\n",
        "plt.plot(graph.history['val_loss'])\n",
        "plt.title('model loss')\n",
        "plt.ylabel('loss')\n",
        "plt.xlabel('epoch')\n",
        "plt.legend(['train', 'test'], loc='upper left')\n",
        "plt.show()"
      ],
      "execution_count": null,
      "outputs": [
        {
          "output_type": "display_data",
          "data": {
            "image/png": "[encoded data removed]",
            "text/plain": [
              "<Figure size 432x288 with 1 Axes>"
            ]
          },
          "metadata": {
            "tags": [],
            "needs_background": "light"
          }
        }
      ]
    },
    {
      "cell_type": "markdown",
      "metadata": {
        "id": "mj_J4FVIyqPX"
      },
      "source": [
        "### Load best weights and predict"
      ]
    },
    {
      "cell_type": "code",
      "metadata": {
        "collapsed": true,
        "id": "bcKEtHxpyqPY"
      },
      "source": [
        "predictions = model.predict(processed_X_test, verbose=0)"
      ],
      "execution_count": null,
      "outputs": []
    },
    {
      "cell_type": "code",
      "metadata": {
        "id": "u4f-JkV7yqPc",
        "colab": {
          "base_uri": "https://localhost:8080/"
        },
        "outputId": "b340eea8-1c10-4334-b22c-5b233c8d27d3"
      },
      "source": [
        "def toxicity_level(string):\n",
        "    \"\"\"\n",
        "    Return toxicity probability based on inputed string.\n",
        "    \"\"\"\n",
        "    # Process string\n",
        "    new_string = [string]\n",
        "    new_string = tokenizer.texts_to_sequences(new_string)\n",
        "    new_string = pad_sequences(new_string, maxlen=max_len, padding='post', truncating='post')\n",
        "    \n",
        "    # Predict\n",
        "    prediction = model.predict(new_string)\n",
        "    \n",
        "    # Print output\n",
        "    print(\"Toxicity levels for '{}':\".format(string))\n",
        "    print('Toxic:         {:.0%}'.format(prediction[0][0]))\n",
        "    print('Severe Toxic:  {:.0%}'.format(prediction[0][1]))\n",
        "    print('Obscene:       {:.0%}'.format(prediction[0][2]))\n",
        "    print('Threat:        {:.0%}'.format(prediction[0][3]))\n",
        "    print('Insult:        {:.0%}'.format(prediction[0][4]))\n",
        "    print('Identity Hate: {:.0%}'.format(prediction[0][5]))\n",
        "    print()\n",
        "    \n",
        "    return\n",
        "\n",
        "toxicity_level('go jump off a bridge jerk')\n",
        "toxicity_level('i will kill you')\n",
        "toxicity_level('have a nice day')\n",
        "toxicity_level('hola, como estas')\n",
        "toxicity_level('hola mierda joder')\n",
        "toxicity_level('fuck off!!')"
      ],
      "execution_count": null,
      "outputs": [
        {
          "output_type": "stream",
          "text": [
            "Toxicity levels for 'go jump off a bridge jerk':\n",
            "Toxic:         85%\n",
            "Severe Toxic:  7%\n",
            "Obscene:       50%\n",
            "Threat:        1%\n",
            "Insult:        59%\n",
            "Identity Hate: 8%\n",
            "\n",
            "Toxicity levels for 'i will kill you':\n",
            "Toxic:         73%\n",
            "Severe Toxic:  2%\n",
            "Obscene:       9%\n",
            "Threat:        58%\n",
            "Insult:        18%\n",
            "Identity Hate: 3%\n",
            "\n",
            "Toxicity levels for 'have a nice day':\n",
            "Toxic:         3%\n",
            "Severe Toxic:  0%\n",
            "Obscene:       0%\n",
            "Threat:        0%\n",
            "Insult:        0%\n",
            "Identity Hate: 0%\n",
            "\n",
            "Toxicity levels for 'hola, como estas':\n",
            "Toxic:         15%\n",
            "Severe Toxic:  0%\n",
            "Obscene:       1%\n",
            "Threat:        0%\n",
            "Insult:        4%\n",
            "Identity Hate: 0%\n",
            "\n",
            "Toxicity levels for 'hola mierda joder':\n",
            "Toxic:         3%\n",
            "Severe Toxic:  0%\n",
            "Obscene:       0%\n",
            "Threat:        0%\n",
            "Insult:        0%\n",
            "Identity Hate: 0%\n",
            "\n",
            "Toxicity levels for 'fuck off!!':\n",
            "Toxic:         100%\n",
            "Severe Toxic:  20%\n",
            "Obscene:       99%\n",
            "Threat:        0%\n",
            "Insult:        64%\n",
            "Identity Hate: 2%\n",
            "\n"
          ],
          "name": "stdout"
        }
      ]
    },
    {
      "cell_type": "code",
      "metadata": {
        "id": "jhxR8fH1yqPf",
        "colab": {
          "base_uri": "https://localhost:8080/"
        },
        "outputId": "1d99cd75-c8ad-4c43-9b51-ede01ec11bf1"
      },
      "source": [
        "toxicity_level('Whats up')"
      ],
      "execution_count": null,
      "outputs": [
        {
          "output_type": "stream",
          "text": [
            "Toxicity levels for 'Whats up':\n",
            "Toxic:         3%\n",
            "Severe Toxic:  0%\n",
            "Obscene:       0%\n",
            "Threat:        0%\n",
            "Insult:        0%\n",
            "Identity Hate: 0%\n",
            "\n"
          ],
          "name": "stdout"
        }
      ]
    }
  ]
}